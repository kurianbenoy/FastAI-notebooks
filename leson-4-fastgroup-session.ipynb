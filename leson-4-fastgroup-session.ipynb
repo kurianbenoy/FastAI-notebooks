{
 "cells": [
  {
   "cell_type": "code",
   "execution_count": 1,
   "id": "instructional-purple",
   "metadata": {
    "execution": {
     "iopub.execute_input": "2021-07-01T19:25:13.150186Z",
     "iopub.status.busy": "2021-07-01T19:25:13.149551Z",
     "iopub.status.idle": "2021-07-01T19:25:15.625760Z",
     "shell.execute_reply": "2021-07-01T19:25:15.624913Z",
     "shell.execute_reply.started": "2021-07-01T18:37:46.248804Z"
    },
    "papermill": {
     "duration": 2.516005,
     "end_time": "2021-07-01T19:25:15.625931",
     "exception": false,
     "start_time": "2021-07-01T19:25:13.109926",
     "status": "completed"
    },
    "tags": []
   },
   "outputs": [],
   "source": [
    "from fastai.vision.all import *"
   ]
  },
  {
   "cell_type": "code",
   "execution_count": 2,
   "id": "rental-tackle",
   "metadata": {
    "execution": {
     "iopub.execute_input": "2021-07-01T19:25:15.700301Z",
     "iopub.status.busy": "2021-07-01T19:25:15.699352Z",
     "iopub.status.idle": "2021-07-01T19:25:21.891841Z",
     "shell.execute_reply": "2021-07-01T19:25:21.891213Z",
     "shell.execute_reply.started": "2021-07-01T18:39:40.024122Z"
    },
    "papermill": {
     "duration": 6.230402,
     "end_time": "2021-07-01T19:25:21.891995",
     "exception": false,
     "start_time": "2021-07-01T19:25:15.661593",
     "status": "completed"
    },
    "tags": []
   },
   "outputs": [
    {
     "data": {
      "text/html": [],
      "text/plain": [
       "<IPython.core.display.HTML object>"
      ]
     },
     "metadata": {},
     "output_type": "display_data"
    }
   ],
   "source": [
    "data = untar_data(URLs.MNIST_SAMPLE)"
   ]
  },
  {
   "cell_type": "code",
   "execution_count": 3,
   "id": "threatened-zoning",
   "metadata": {
    "execution": {
     "iopub.execute_input": "2021-07-01T19:25:21.969063Z",
     "iopub.status.busy": "2021-07-01T19:25:21.968028Z",
     "iopub.status.idle": "2021-07-01T19:25:21.972527Z",
     "shell.execute_reply": "2021-07-01T19:25:21.973040Z",
     "shell.execute_reply.started": "2021-07-01T18:41:00.566176Z"
    },
    "papermill": {
     "duration": 0.045222,
     "end_time": "2021-07-01T19:25:21.973202",
     "exception": false,
     "start_time": "2021-07-01T19:25:21.927980",
     "status": "completed"
    },
    "tags": []
   },
   "outputs": [
    {
     "data": {
      "text/plain": [
       "(#3) [Path('/root/.fastai/data/mnist_sample/valid'),Path('/root/.fastai/data/mnist_sample/labels.csv'),Path('/root/.fastai/data/mnist_sample/train')]"
      ]
     },
     "execution_count": 3,
     "metadata": {},
     "output_type": "execute_result"
    }
   ],
   "source": [
    "data.ls()"
   ]
  },
  {
   "cell_type": "code",
   "execution_count": 4,
   "id": "continental-flashing",
   "metadata": {
    "execution": {
     "iopub.execute_input": "2021-07-01T19:25:22.050870Z",
     "iopub.status.busy": "2021-07-01T19:25:22.049902Z",
     "iopub.status.idle": "2021-07-01T19:25:22.087263Z",
     "shell.execute_reply": "2021-07-01T19:25:22.086539Z",
     "shell.execute_reply.started": "2021-07-01T18:42:24.064073Z"
    },
    "papermill": {
     "duration": 0.078414,
     "end_time": "2021-07-01T19:25:22.087413",
     "exception": false,
     "start_time": "2021-07-01T19:25:22.008999",
     "status": "completed"
    },
    "tags": []
   },
   "outputs": [],
   "source": [
    "threes = (data/'train/3').ls()\n",
    "sevens = (data/'train/7').ls()"
   ]
  },
  {
   "cell_type": "code",
   "execution_count": 5,
   "id": "mexican-ranch",
   "metadata": {
    "execution": {
     "iopub.execute_input": "2021-07-01T19:25:22.162292Z",
     "iopub.status.busy": "2021-07-01T19:25:22.161679Z",
     "iopub.status.idle": "2021-07-01T19:25:22.167013Z",
     "shell.execute_reply": "2021-07-01T19:25:22.166475Z",
     "shell.execute_reply.started": "2021-07-01T18:42:25.230996Z"
    },
    "papermill": {
     "duration": 0.043588,
     "end_time": "2021-07-01T19:25:22.167155",
     "exception": false,
     "start_time": "2021-07-01T19:25:22.123567",
     "status": "completed"
    },
    "tags": []
   },
   "outputs": [
    {
     "data": {
      "text/plain": [
       "(#6131) [Path('/root/.fastai/data/mnist_sample/train/3/8537.png'),Path('/root/.fastai/data/mnist_sample/train/3/36023.png'),Path('/root/.fastai/data/mnist_sample/train/3/36329.png'),Path('/root/.fastai/data/mnist_sample/train/3/51332.png'),Path('/root/.fastai/data/mnist_sample/train/3/2408.png'),Path('/root/.fastai/data/mnist_sample/train/3/43816.png'),Path('/root/.fastai/data/mnist_sample/train/3/12080.png'),Path('/root/.fastai/data/mnist_sample/train/3/36803.png'),Path('/root/.fastai/data/mnist_sample/train/3/24326.png'),Path('/root/.fastai/data/mnist_sample/train/3/38241.png')...]"
      ]
     },
     "execution_count": 5,
     "metadata": {},
     "output_type": "execute_result"
    }
   ],
   "source": [
    "threes"
   ]
  },
  {
   "cell_type": "code",
   "execution_count": 6,
   "id": "adopted-literature",
   "metadata": {
    "execution": {
     "iopub.execute_input": "2021-07-01T19:25:22.239928Z",
     "iopub.status.busy": "2021-07-01T19:25:22.239340Z",
     "iopub.status.idle": "2021-07-01T19:25:22.243698Z",
     "shell.execute_reply": "2021-07-01T19:25:22.244201Z",
     "shell.execute_reply.started": "2021-07-01T18:42:31.921088Z"
    },
    "papermill": {
     "duration": 0.042193,
     "end_time": "2021-07-01T19:25:22.244375",
     "exception": false,
     "start_time": "2021-07-01T19:25:22.202182",
     "status": "completed"
    },
    "tags": []
   },
   "outputs": [
    {
     "data": {
      "text/plain": [
       "(#6265) [Path('/root/.fastai/data/mnist_sample/train/7/22753.png'),Path('/root/.fastai/data/mnist_sample/train/7/51859.png'),Path('/root/.fastai/data/mnist_sample/train/7/29605.png'),Path('/root/.fastai/data/mnist_sample/train/7/15998.png'),Path('/root/.fastai/data/mnist_sample/train/7/39399.png'),Path('/root/.fastai/data/mnist_sample/train/7/7754.png'),Path('/root/.fastai/data/mnist_sample/train/7/17373.png'),Path('/root/.fastai/data/mnist_sample/train/7/22817.png'),Path('/root/.fastai/data/mnist_sample/train/7/57570.png'),Path('/root/.fastai/data/mnist_sample/train/7/5652.png')...]"
      ]
     },
     "execution_count": 6,
     "metadata": {},
     "output_type": "execute_result"
    }
   ],
   "source": [
    "sevens"
   ]
  },
  {
   "cell_type": "code",
   "execution_count": 7,
   "id": "voluntary-replication",
   "metadata": {
    "execution": {
     "iopub.execute_input": "2021-07-01T19:25:22.317843Z",
     "iopub.status.busy": "2021-07-01T19:25:22.317252Z",
     "iopub.status.idle": "2021-07-01T19:25:22.321855Z",
     "shell.execute_reply": "2021-07-01T19:25:22.321321Z",
     "shell.execute_reply.started": "2021-07-01T18:43:20.857512Z"
    },
    "papermill": {
     "duration": 0.042316,
     "end_time": "2021-07-01T19:25:22.322010",
     "exception": false,
     "start_time": "2021-07-01T19:25:22.279694",
     "status": "completed"
    },
    "tags": []
   },
   "outputs": [],
   "source": [
    "img_path = threes[-1]"
   ]
  },
  {
   "cell_type": "code",
   "execution_count": 8,
   "id": "uniform-panic",
   "metadata": {
    "execution": {
     "iopub.execute_input": "2021-07-01T19:25:22.396306Z",
     "iopub.status.busy": "2021-07-01T19:25:22.395661Z",
     "iopub.status.idle": "2021-07-01T19:25:22.411301Z",
     "shell.execute_reply": "2021-07-01T19:25:22.410689Z",
     "shell.execute_reply.started": "2021-07-01T18:43:22.031261Z"
    },
    "papermill": {
     "duration": 0.05384,
     "end_time": "2021-07-01T19:25:22.411438",
     "exception": false,
     "start_time": "2021-07-01T19:25:22.357598",
     "status": "completed"
    },
    "tags": []
   },
   "outputs": [
    {
     "data": {
      "image/png": "[encoded data removed]",
      "text/plain": [
       "<PIL.PngImagePlugin.PngImageFile image mode=L size=28x28 at 0x7F16E3DB9F90>"
      ]
     },
     "execution_count": 8,
     "metadata": {},
     "output_type": "execute_result"
    }
   ],
   "source": [
    "img = Image.open(img_path)\n",
    "img"
   ]
  },
  {
   "cell_type": "code",
   "execution_count": 9,
   "id": "biblical-payment",
   "metadata": {
    "execution": {
     "iopub.execute_input": "2021-07-01T19:25:22.487665Z",
     "iopub.status.busy": "2021-07-01T19:25:22.487035Z",
     "iopub.status.idle": "2021-07-01T19:25:22.495321Z",
     "shell.execute_reply": "2021-07-01T19:25:22.494774Z",
     "shell.execute_reply.started": "2021-07-01T18:43:37.952723Z"
    },
    "papermill": {
     "duration": 0.048083,
     "end_time": "2021-07-01T19:25:22.495459",
     "exception": false,
     "start_time": "2021-07-01T19:25:22.447376",
     "status": "completed"
    },
    "tags": []
   },
   "outputs": [
    {
     "data": {
      "text/plain": [
       "array([[  0,   0,   0,   0,   0,   0,   0,   0,   0,   0,   0,   0,   0,\n",
       "          0,   0,   0,   0,   0,   0,   0,   0,   0,   0,   0,   0,   0,\n",
       "          0,   0],\n",
       "       [  0,   0,   0,   0,   0,   0,   0,   0,   0,   0,   0,   0,   0,\n",
       "          0,   0,   0,   0,   0,   0,   0,   0,   0,   0,   0,   0,   0,\n",
       "          0,   0],\n",
       "       [  0,   0,   0,   0,   0,   0,   0,   0,   0,   0,   0,   0,   0,\n",
       "          0,   0,   0,   0,   0,   0,   0,   0,   0,   0,   0,   0,   0,\n",
       "          0,   0],\n",
       "       [  0,   0,   0,   0,   0,   0,   0,   0,   0,   0,   0,   0,   0,\n",
       "          0,   0,   0,   0,   0,   0,   0,   0,   0,   0,   0,   0,   0,\n",
       "          0,   0],\n",
       "       [  0,   0,   0,   0,   0,   0,   0,   0,   0,   0,   0,   0,   0,\n",
       "          0,   0,   0,   0,   0,   0,   0,   0,   0,   0,   0,   0,   0,\n",
       "          0,   0],\n",
       "       [  0,   0,   0,   0,   0,   0,   0,   0,   0,   0,   0,   0,   0,\n",
       "          0,   0,   0,   0,   0,  20, 188, 213,   0,   0,   0,   0,   0,\n",
       "          0,   0],\n",
       "       [  0,   0,   0,   0,   0,   0,   0,   0,   0,   0,   0,   0,   0,\n",
       "          0,   0,   0,   0,  30, 212, 254, 141,   0,   0,   0,   0,   0,\n",
       "          0,   0],\n",
       "       [  0,   0,   0,   0,   0,   0,  17, 159,  44,   0,   0,   0,   0,\n",
       "          0,   0,   3,  75, 226, 254, 235,  16,   0,   0,   0,   0,   0,\n",
       "          0,   0],\n",
       "       [  0,   0,   0,   0,   0,   0,  56, 254, 173,   0,   0,   0,   0,\n",
       "          0,  63, 181, 254, 254, 254, 126,   0,   0,   0,   0,   0,   0,\n",
       "          0,   0],\n",
       "       [  0,   0,   0,   0,   0,   0,  33, 248, 179,  17,  15,  35,  91,\n",
       "        204, 249, 232,  92, 224, 185,   3,   0,   0,   0,   0,   0,   0,\n",
       "          0,   0],\n",
       "       [  0,   0,   0,   0,   0,   0,   0, 153, 252, 236, 235, 254, 254,\n",
       "        209, 145,  36, 175, 230,  23,   0,   0,   0,   0,   0,   0,   0,\n",
       "          0,   0],\n",
       "       [  0,   0,   0,   0,   0,   0,   0,   0,  89, 124, 124, 124,  68,\n",
       "          0,  32, 219, 254, 204,  87,   0,   0,   0,   0,   0,   0,   0,\n",
       "          0,   0],\n",
       "       [  0,   0,   0,   0,   0,   0,   0,   0,   0,   0,   0,   0,   0,\n",
       "         87, 245, 253, 212, 218, 253, 123,   2,   0,   0,   0,   0,   0,\n",
       "          0,   0],\n",
       "       [  0,   0,   0,   0,   0,   0,   0,   0,   0,   0,   0,   2, 151,\n",
       "        255, 209,  67,   0,   4, 120, 254,  68,   0,   0,   0,   0,   0,\n",
       "          0,   0],\n",
       "       [  0,   0,   0,   0,   0,   0,   0,   0,   0,   0,   0,  10, 172,\n",
       "        123,   4,   0,   0,   0,  20, 224, 113,   0,   0,   0,   0,   0,\n",
       "          0,   0],\n",
       "       [  0,   0,   0,   0,   0,   0,   0,   0,   0,   0,   0,   0,   0,\n",
       "          0,   0,   0,   0,   0,   0, 168, 232,  13,   0,   0,   0,   0,\n",
       "          0,   0],\n",
       "       [  0,   0,   0,   0,   0,   0,   0,   0,   0,   0,   0,   0,   0,\n",
       "          0,   0,   0,   0,   0,   0, 130, 254,  27,   0,   0,   0,   0,\n",
       "          0,   0],\n",
       "       [  0,   0,   0,   0,   0,  23,  39,   0,   0,   0,   0,   0,   0,\n",
       "          0,   0,   0,   0,   0,   0, 130, 254,  27,   0,   0,   0,   0,\n",
       "          0,   0],\n",
       "       [  0,   0,   0,   0,  14, 178,  49,   0,   0,   0,   0,   0,   0,\n",
       "          0,   0,   0,   0,   0,   0, 130, 234,  14,   0,   0,   0,   0,\n",
       "          0,   0],\n",
       "       [  0,   0,   0,   0,  28, 182,   0,   0,   0,   0,   0,   0,   0,\n",
       "          0,   0,   0,   0,   0,   2, 203, 203,   0,   0,   0,   0,   0,\n",
       "          0,   0],\n",
       "       [  0,   0,   0,   0,  28, 221,  20,   0,   0,   0,   0,   0,   0,\n",
       "          0,   0,   0,   0,   0,  59, 254,  81,   0,   0,   0,   0,   0,\n",
       "          0,   0],\n",
       "       [  0,   0,   0,   0,  14, 199, 164,   4,   0,   0,   0,   0,   0,\n",
       "          0,   0,   0,   0,  18, 223, 205,   4,   0,   0,   0,   0,   0,\n",
       "          0,   0],\n",
       "       [  0,   0,   0,   0,   0,  25, 197, 192,  67,   0,   0,   0,   0,\n",
       "          0,   0,   0,  47, 223, 214,  18,   0,   0,   0,   0,   0,   0,\n",
       "          0,   0],\n",
       "       [  0,   0,   0,   0,   0,   0,  14, 148, 238, 210, 158, 116,  90,\n",
       "         90,  90, 168, 247, 159,  28,   0,   0,   0,   0,   0,   0,   0,\n",
       "          0,   0],\n",
       "       [  0,   0,   0,   0,   0,   0,   0,   0,  20, 117, 165, 247, 254,\n",
       "        254, 228, 183,  83,   3,   0,   0,   0,   0,   0,   0,   0,   0,\n",
       "          0,   0],\n",
       "       [  0,   0,   0,   0,   0,   0,   0,   0,   0,   0,   0,   0,   0,\n",
       "          0,   0,   0,   0,   0,   0,   0,   0,   0,   0,   0,   0,   0,\n",
       "          0,   0],\n",
       "       [  0,   0,   0,   0,   0,   0,   0,   0,   0,   0,   0,   0,   0,\n",
       "          0,   0,   0,   0,   0,   0,   0,   0,   0,   0,   0,   0,   0,\n",
       "          0,   0],\n",
       "       [  0,   0,   0,   0,   0,   0,   0,   0,   0,   0,   0,   0,   0,\n",
       "          0,   0,   0,   0,   0,   0,   0,   0,   0,   0,   0,   0,   0,\n",
       "          0,   0]], dtype=uint8)"
      ]
     },
     "execution_count": 9,
     "metadata": {},
     "output_type": "execute_result"
    }
   ],
   "source": [
    "array(img)"
   ]
  },
  {
   "cell_type": "code",
   "execution_count": 10,
   "id": "immune-yeast",
   "metadata": {
    "execution": {
     "iopub.execute_input": "2021-07-01T19:25:22.570304Z",
     "iopub.status.busy": "2021-07-01T19:25:22.569712Z",
     "iopub.status.idle": "2021-07-01T19:25:22.575840Z",
     "shell.execute_reply": "2021-07-01T19:25:22.576347Z",
     "shell.execute_reply.started": "2021-07-01T18:46:31.618111Z"
    },
    "papermill": {
     "duration": 0.045014,
     "end_time": "2021-07-01T19:25:22.576511",
     "exception": false,
     "start_time": "2021-07-01T19:25:22.531497",
     "status": "completed"
    },
    "tags": []
   },
   "outputs": [
    {
     "data": {
      "text/plain": [
       "array([[  0,   0,   0,   0,   0,   0,   0,   0,   0,   0,   0,   0,   0,\n",
       "          0,  20, 188, 213,   0],\n",
       "       [  0,   0,   0,   0,   0,   0,   0,   0,   0,   0,   0,   0,   0,\n",
       "         30, 212, 254, 141,   0],\n",
       "       [  0,   0,  17, 159,  44,   0,   0,   0,   0,   0,   0,   3,  75,\n",
       "        226, 254, 235,  16,   0],\n",
       "       [  0,   0,  56, 254, 173,   0,   0,   0,   0,   0,  63, 181, 254,\n",
       "        254, 254, 126,   0,   0],\n",
       "       [  0,   0,  33, 248, 179,  17,  15,  35,  91, 204, 249, 232,  92,\n",
       "        224, 185,   3,   0,   0],\n",
       "       [  0,   0,   0, 153, 252, 236, 235, 254, 254, 209, 145,  36, 175,\n",
       "        230,  23,   0,   0,   0],\n",
       "       [  0,   0,   0,   0,  89, 124, 124, 124,  68,   0,  32, 219, 254,\n",
       "        204,  87,   0,   0,   0],\n",
       "       [  0,   0,   0,   0,   0,   0,   0,   0,   0,  87, 245, 253, 212,\n",
       "        218, 253, 123,   2,   0],\n",
       "       [  0,   0,   0,   0,   0,   0,   0,   2, 151, 255, 209,  67,   0,\n",
       "          4, 120, 254,  68,   0],\n",
       "       [  0,   0,   0,   0,   0,   0,   0,  10, 172, 123,   4,   0,   0,\n",
       "          0,  20, 224, 113,   0],\n",
       "       [  0,   0,   0,   0,   0,   0,   0,   0,   0,   0,   0,   0,   0,\n",
       "          0,   0, 168, 232,  13],\n",
       "       [  0,   0,   0,   0,   0,   0,   0,   0,   0,   0,   0,   0,   0,\n",
       "          0,   0, 130, 254,  27],\n",
       "       [  0,  23,  39,   0,   0,   0,   0,   0,   0,   0,   0,   0,   0,\n",
       "          0,   0, 130, 254,  27],\n",
       "       [ 14, 178,  49,   0,   0,   0,   0,   0,   0,   0,   0,   0,   0,\n",
       "          0,   0, 130, 234,  14],\n",
       "       [ 28, 182,   0,   0,   0,   0,   0,   0,   0,   0,   0,   0,   0,\n",
       "          0,   2, 203, 203,   0],\n",
       "       [ 28, 221,  20,   0,   0,   0,   0,   0,   0,   0,   0,   0,   0,\n",
       "          0,  59, 254,  81,   0],\n",
       "       [ 14, 199, 164,   4,   0,   0,   0,   0,   0,   0,   0,   0,   0,\n",
       "         18, 223, 205,   4,   0],\n",
       "       [  0,  25, 197, 192,  67,   0,   0,   0,   0,   0,   0,   0,  47,\n",
       "        223, 214,  18,   0,   0],\n",
       "       [  0,   0,  14, 148, 238, 210, 158, 116,  90,  90,  90, 168, 247,\n",
       "        159,  28,   0,   0,   0],\n",
       "       [  0,   0,   0,   0,  20, 117, 165, 247, 254, 254, 228, 183,  83,\n",
       "          3,   0,   0,   0,   0]], dtype=uint8)"
      ]
     },
     "execution_count": 10,
     "metadata": {},
     "output_type": "execute_result"
    }
   ],
   "source": [
    "array(img)[5:25, 4:22]"
   ]
  },
  {
   "cell_type": "code",
   "execution_count": 11,
   "id": "single-yemen",
   "metadata": {
    "execution": {
     "iopub.execute_input": "2021-07-01T19:25:22.652432Z",
     "iopub.status.busy": "2021-07-01T19:25:22.651820Z",
     "iopub.status.idle": "2021-07-01T19:25:22.656415Z",
     "shell.execute_reply": "2021-07-01T19:25:22.656897Z",
     "shell.execute_reply.started": "2021-07-01T18:45:05.418975Z"
    },
    "papermill": {
     "duration": 0.044162,
     "end_time": "2021-07-01T19:25:22.657059",
     "exception": false,
     "start_time": "2021-07-01T19:25:22.612897",
     "status": "completed"
    },
    "tags": []
   },
   "outputs": [
    {
     "data": {
      "text/plain": [
       "28"
      ]
     },
     "execution_count": 11,
     "metadata": {},
     "output_type": "execute_result"
    }
   ],
   "source": [
    "len(array(img))"
   ]
  },
  {
   "cell_type": "code",
   "execution_count": 12,
   "id": "certified-penguin",
   "metadata": {
    "execution": {
     "iopub.execute_input": "2021-07-01T19:25:22.733424Z",
     "iopub.status.busy": "2021-07-01T19:25:22.732827Z",
     "iopub.status.idle": "2021-07-01T19:25:22.770850Z",
     "shell.execute_reply": "2021-07-01T19:25:22.771367Z",
     "shell.execute_reply.started": "2021-07-01T18:47:20.643191Z"
    },
    "papermill": {
     "duration": 0.077821,
     "end_time": "2021-07-01T19:25:22.771537",
     "exception": false,
     "start_time": "2021-07-01T19:25:22.693716",
     "status": "completed"
    },
    "tags": []
   },
   "outputs": [
    {
     "data": {
      "text/plain": [
       "tensor([[  0,   0,   0,   0,   0,   0,   0,   0,   0,   0,   0,   0,   0,   0,\n",
       "          20, 188],\n",
       "        [  0,   0,   0,   0,   0,   0,   0,   0,   0,   0,   0,   0,   0,  30,\n",
       "         212, 254],\n",
       "        [  0,   0,  17, 159,  44,   0,   0,   0,   0,   0,   0,   3,  75, 226,\n",
       "         254, 235],\n",
       "        [  0,   0,  56, 254, 173,   0,   0,   0,   0,   0,  63, 181, 254, 254,\n",
       "         254, 126],\n",
       "        [  0,   0,  33, 248, 179,  17,  15,  35,  91, 204, 249, 232,  92, 224,\n",
       "         185,   3],\n",
       "        [  0,   0,   0, 153, 252, 236, 235, 254, 254, 209, 145,  36, 175, 230,\n",
       "          23,   0],\n",
       "        [  0,   0,   0,   0,  89, 124, 124, 124,  68,   0,  32, 219, 254, 204,\n",
       "          87,   0],\n",
       "        [  0,   0,   0,   0,   0,   0,   0,   0,   0,  87, 245, 253, 212, 218,\n",
       "         253, 123],\n",
       "        [  0,   0,   0,   0,   0,   0,   0,   2, 151, 255, 209,  67,   0,   4,\n",
       "         120, 254],\n",
       "        [  0,   0,   0,   0,   0,   0,   0,  10, 172, 123,   4,   0,   0,   0,\n",
       "          20, 224],\n",
       "        [  0,   0,   0,   0,   0,   0,   0,   0,   0,   0,   0,   0,   0,   0,\n",
       "           0, 168],\n",
       "        [  0,   0,   0,   0,   0,   0,   0,   0,   0,   0,   0,   0,   0,   0,\n",
       "           0, 130],\n",
       "        [  0,  23,  39,   0,   0,   0,   0,   0,   0,   0,   0,   0,   0,   0,\n",
       "           0, 130],\n",
       "        [ 14, 178,  49,   0,   0,   0,   0,   0,   0,   0,   0,   0,   0,   0,\n",
       "           0, 130],\n",
       "        [ 28, 182,   0,   0,   0,   0,   0,   0,   0,   0,   0,   0,   0,   0,\n",
       "           2, 203],\n",
       "        [ 28, 221,  20,   0,   0,   0,   0,   0,   0,   0,   0,   0,   0,   0,\n",
       "          59, 254],\n",
       "        [ 14, 199, 164,   4,   0,   0,   0,   0,   0,   0,   0,   0,   0,  18,\n",
       "         223, 205],\n",
       "        [  0,  25, 197, 192,  67,   0,   0,   0,   0,   0,   0,   0,  47, 223,\n",
       "         214,  18],\n",
       "        [  0,   0,  14, 148, 238, 210, 158, 116,  90,  90,  90, 168, 247, 159,\n",
       "          28,   0],\n",
       "        [  0,   0,   0,   0,  20, 117, 165, 247, 254, 254, 228, 183,  83,   3,\n",
       "           0,   0]], dtype=torch.uint8)"
      ]
     },
     "execution_count": 12,
     "metadata": {},
     "output_type": "execute_result"
    }
   ],
   "source": [
    "tensor(img)[5:25, 4:20]"
   ]
  },
  {
   "cell_type": "code",
   "execution_count": 13,
   "id": "flexible-eagle",
   "metadata": {
    "execution": {
     "iopub.execute_input": "2021-07-01T19:25:22.848468Z",
     "iopub.status.busy": "2021-07-01T19:25:22.847842Z",
     "iopub.status.idle": "2021-07-01T19:25:23.011912Z",
     "shell.execute_reply": "2021-07-01T19:25:23.011344Z",
     "shell.execute_reply.started": "2021-07-01T18:50:19.929935Z"
    },
    "papermill": {
     "duration": 0.203539,
     "end_time": "2021-07-01T19:25:23.012046",
     "exception": false,
     "start_time": "2021-07-01T19:25:22.808507",
     "status": "completed"
    },
    "tags": []
   },
   "outputs": [
    {
     "data": {
      "text/html": [
       "<style  type=\"text/css\" >\n",
       "#T_c33ae_row0_col0,#T_c33ae_row0_col1,#T_c33ae_row0_col2,#T_c33ae_row0_col3,#T_c33ae_row0_col4,#T_c33ae_row0_col5,#T_c33ae_row0_col6,#T_c33ae_row0_col7,#T_c33ae_row0_col8,#T_c33ae_row0_col9,#T_c33ae_row0_col13,#T_c33ae_row0_col14,#T_c33ae_row0_col15,#T_c33ae_row1_col0,#T_c33ae_row1_col1,#T_c33ae_row1_col2,#T_c33ae_row1_col3,#T_c33ae_row1_col4,#T_c33ae_row1_col5,#T_c33ae_row1_col6,#T_c33ae_row1_col7,#T_c33ae_row1_col8,#T_c33ae_row1_col13,#T_c33ae_row1_col14,#T_c33ae_row1_col15,#T_c33ae_row2_col1,#T_c33ae_row2_col2,#T_c33ae_row2_col3,#T_c33ae_row2_col4,#T_c33ae_row2_col5,#T_c33ae_row2_col6,#T_c33ae_row2_col13,#T_c33ae_row2_col14,#T_c33ae_row2_col15,#T_c33ae_row3_col1,#T_c33ae_row3_col2,#T_c33ae_row3_col3,#T_c33ae_row3_col4,#T_c33ae_row3_col5,#T_c33ae_row3_col12,#T_c33ae_row3_col13,#T_c33ae_row3_col14,#T_c33ae_row3_col15,#T_c33ae_row4_col12,#T_c33ae_row4_col13,#T_c33ae_row4_col14,#T_c33ae_row4_col15,#T_c33ae_row5_col11,#T_c33ae_row5_col12,#T_c33ae_row5_col13,#T_c33ae_row5_col14,#T_c33ae_row5_col15,#T_c33ae_row6_col5,#T_c33ae_row6_col11,#T_c33ae_row6_col12,#T_c33ae_row6_col13,#T_c33ae_row6_col14,#T_c33ae_row6_col15,#T_c33ae_row7_col0,#T_c33ae_row7_col1,#T_c33ae_row7_col2,#T_c33ae_row7_col3,#T_c33ae_row7_col4,#T_c33ae_row7_col13,#T_c33ae_row7_col14,#T_c33ae_row7_col15,#T_c33ae_row8_col0,#T_c33ae_row8_col1,#T_c33ae_row8_col2,#T_c33ae_row8_col8,#T_c33ae_row8_col13,#T_c33ae_row8_col14,#T_c33ae_row8_col15,#T_c33ae_row9_col0,#T_c33ae_row9_col1,#T_c33ae_row9_col2,#T_c33ae_row9_col7,#T_c33ae_row9_col8,#T_c33ae_row9_col9,#T_c33ae_row9_col13,#T_c33ae_row9_col14,#T_c33ae_row9_col15,#T_c33ae_row10_col0,#T_c33ae_row10_col1,#T_c33ae_row10_col2,#T_c33ae_row10_col3,#T_c33ae_row10_col4,#T_c33ae_row10_col5,#T_c33ae_row10_col6,#T_c33ae_row10_col7,#T_c33ae_row10_col8,#T_c33ae_row10_col9,#T_c33ae_row10_col10,#T_c33ae_row10_col14,#T_c33ae_row10_col15,#T_c33ae_row11_col0,#T_c33ae_row11_col1,#T_c33ae_row11_col2,#T_c33ae_row11_col3,#T_c33ae_row11_col4,#T_c33ae_row11_col5,#T_c33ae_row11_col6,#T_c33ae_row11_col7,#T_c33ae_row11_col8,#T_c33ae_row11_col9,#T_c33ae_row11_col10,#T_c33ae_row11_col14,#T_c33ae_row11_col15,#T_c33ae_row12_col0,#T_c33ae_row12_col1,#T_c33ae_row12_col2,#T_c33ae_row12_col3,#T_c33ae_row12_col4,#T_c33ae_row12_col5,#T_c33ae_row12_col6,#T_c33ae_row12_col7,#T_c33ae_row12_col8,#T_c33ae_row12_col9,#T_c33ae_row12_col10,#T_c33ae_row12_col14,#T_c33ae_row12_col15,#T_c33ae_row13_col0,#T_c33ae_row13_col1,#T_c33ae_row13_col2,#T_c33ae_row13_col3,#T_c33ae_row13_col4,#T_c33ae_row13_col5,#T_c33ae_row13_col6,#T_c33ae_row13_col7,#T_c33ae_row13_col8,#T_c33ae_row13_col9,#T_c33ae_row13_col10,#T_c33ae_row13_col14,#T_c33ae_row13_col15,#T_c33ae_row14_col0,#T_c33ae_row14_col1,#T_c33ae_row14_col2,#T_c33ae_row14_col3,#T_c33ae_row14_col4,#T_c33ae_row14_col5,#T_c33ae_row14_col6,#T_c33ae_row14_col7,#T_c33ae_row14_col8,#T_c33ae_row14_col9,#T_c33ae_row14_col13,#T_c33ae_row14_col14,#T_c33ae_row14_col15,#T_c33ae_row15_col0,#T_c33ae_row15_col1,#T_c33ae_row15_col2,#T_c33ae_row15_col3,#T_c33ae_row15_col4,#T_c33ae_row15_col5,#T_c33ae_row15_col6,#T_c33ae_row15_col7,#T_c33ae_row15_col8,#T_c33ae_row15_col9,#T_c33ae_row15_col13,#T_c33ae_row15_col14,#T_c33ae_row15_col15,#T_c33ae_row16_col0,#T_c33ae_row16_col1,#T_c33ae_row16_col2,#T_c33ae_row16_col3,#T_c33ae_row16_col4,#T_c33ae_row16_col5,#T_c33ae_row16_col6,#T_c33ae_row16_col7,#T_c33ae_row16_col8,#T_c33ae_row16_col13,#T_c33ae_row16_col14,#T_c33ae_row16_col15,#T_c33ae_row17_col1,#T_c33ae_row17_col2,#T_c33ae_row17_col3,#T_c33ae_row17_col4,#T_c33ae_row17_col5,#T_c33ae_row17_col6,#T_c33ae_row17_col7,#T_c33ae_row17_col12,#T_c33ae_row17_col13,#T_c33ae_row17_col14,#T_c33ae_row17_col15,#T_c33ae_row18_col11,#T_c33ae_row18_col12,#T_c33ae_row18_col13,#T_c33ae_row18_col14,#T_c33ae_row18_col15,#T_c33ae_row19_col10,#T_c33ae_row19_col11,#T_c33ae_row19_col12,#T_c33ae_row19_col13,#T_c33ae_row19_col14,#T_c33ae_row19_col15{\n",
       "            font-size:  6pt;\n",
       "            background-color:  #fcfbfd;\n",
       "            color:  #000000;\n",
       "        }#T_c33ae_row0_col10,#T_c33ae_row9_col10,#T_c33ae_row19_col0{\n",
       "            font-size:  6pt;\n",
       "            background-color:  #f4f2f8;\n",
       "            color:  #000000;\n",
       "        }#T_c33ae_row0_col11{\n",
       "            font-size:  6pt;\n",
       "            background-color:  #6c54a5;\n",
       "            color:  #f1f1f1;\n",
       "        }#T_c33ae_row0_col12,#T_c33ae_row8_col6{\n",
       "            font-size:  6pt;\n",
       "            background-color:  #5a3395;\n",
       "            color:  #f1f1f1;\n",
       "        }#T_c33ae_row1_col9{\n",
       "            font-size:  6pt;\n",
       "            background-color:  #f0eef5;\n",
       "            color:  #000000;\n",
       "        }#T_c33ae_row1_col10,#T_c33ae_row7_col8{\n",
       "            font-size:  6pt;\n",
       "            background-color:  #5b3495;\n",
       "            color:  #f1f1f1;\n",
       "        }#T_c33ae_row1_col11,#T_c33ae_row2_col10,#T_c33ae_row3_col8,#T_c33ae_row3_col9,#T_c33ae_row3_col10,#T_c33ae_row4_col6,#T_c33ae_row5_col0,#T_c33ae_row5_col1,#T_c33ae_row5_col2,#T_c33ae_row5_col3,#T_c33ae_row5_col4,#T_c33ae_row6_col8,#T_c33ae_row7_col7,#T_c33ae_row8_col5,#T_c33ae_row8_col11,#T_c33ae_row11_col12,#T_c33ae_row11_col13,#T_c33ae_row12_col12,#T_c33ae_row12_col13,#T_c33ae_row15_col11,#T_c33ae_row19_col4{\n",
       "            font-size:  6pt;\n",
       "            background-color:  #3f007d;\n",
       "            color:  #f1f1f1;\n",
       "        }#T_c33ae_row1_col12{\n",
       "            font-size:  6pt;\n",
       "            background-color:  #908dc2;\n",
       "            color:  #000000;\n",
       "        }#T_c33ae_row2_col0{\n",
       "            font-size:  6pt;\n",
       "            background-color:  #e7e6f1;\n",
       "            color:  #000000;\n",
       "        }#T_c33ae_row2_col7,#T_c33ae_row4_col11,#T_c33ae_row7_col12,#T_c33ae_row8_col3,#T_c33ae_row14_col10,#T_c33ae_row19_col9{\n",
       "            font-size:  6pt;\n",
       "            background-color:  #fbfafc;\n",
       "            color:  #000000;\n",
       "        }#T_c33ae_row2_col8{\n",
       "            font-size:  6pt;\n",
       "            background-color:  #cfd0e6;\n",
       "            color:  #000000;\n",
       "        }#T_c33ae_row2_col9,#T_c33ae_row18_col1{\n",
       "            font-size:  6pt;\n",
       "            background-color:  #51228d;\n",
       "            color:  #f1f1f1;\n",
       "        }#T_c33ae_row2_col11{\n",
       "            font-size:  6pt;\n",
       "            background-color:  #4c1788;\n",
       "            color:  #f1f1f1;\n",
       "        }#T_c33ae_row2_col12,#T_c33ae_row4_col2{\n",
       "            font-size:  6pt;\n",
       "            background-color:  #f5f4f9;\n",
       "            color:  #000000;\n",
       "        }#T_c33ae_row3_col0{\n",
       "            font-size:  6pt;\n",
       "            background-color:  #7567af;\n",
       "            color:  #000000;\n",
       "        }#T_c33ae_row3_col6{\n",
       "            font-size:  6pt;\n",
       "            background-color:  #dadaeb;\n",
       "            color:  #000000;\n",
       "        }#T_c33ae_row3_col7{\n",
       "            font-size:  6pt;\n",
       "            background-color:  #705ca9;\n",
       "            color:  #f1f1f1;\n",
       "        }#T_c33ae_row3_col11,#T_c33ae_row19_col1{\n",
       "            font-size:  6pt;\n",
       "            background-color:  #9f9cc9;\n",
       "            color:  #000000;\n",
       "        }#T_c33ae_row4_col0{\n",
       "            font-size:  6pt;\n",
       "            background-color:  #715faa;\n",
       "            color:  #000000;\n",
       "        }#T_c33ae_row4_col1,#T_c33ae_row16_col9,#T_c33ae_row17_col11{\n",
       "            font-size:  6pt;\n",
       "            background-color:  #f5f3f8;\n",
       "            color:  #000000;\n",
       "        }#T_c33ae_row4_col3{\n",
       "            font-size:  6pt;\n",
       "            background-color:  #edebf4;\n",
       "            color:  #000000;\n",
       "        }#T_c33ae_row4_col4{\n",
       "            font-size:  6pt;\n",
       "            background-color:  #c0c1de;\n",
       "            color:  #000000;\n",
       "        }#T_c33ae_row4_col5,#T_c33ae_row14_col11,#T_c33ae_row14_col12{\n",
       "            font-size:  6pt;\n",
       "            background-color:  #61409b;\n",
       "            color:  #f1f1f1;\n",
       "        }#T_c33ae_row4_col7,#T_c33ae_row19_col6{\n",
       "            font-size:  6pt;\n",
       "            background-color:  #4d1a89;\n",
       "            color:  #f1f1f1;\n",
       "        }#T_c33ae_row4_col8,#T_c33ae_row18_col6{\n",
       "            font-size:  6pt;\n",
       "            background-color:  #bfc0de;\n",
       "            color:  #000000;\n",
       "        }#T_c33ae_row4_col9,#T_c33ae_row9_col11{\n",
       "            font-size:  6pt;\n",
       "            background-color:  #53258e;\n",
       "            color:  #f1f1f1;\n",
       "        }#T_c33ae_row4_col10{\n",
       "            font-size:  6pt;\n",
       "            background-color:  #6e58a7;\n",
       "            color:  #f1f1f1;\n",
       "        }#T_c33ae_row5_col5{\n",
       "            font-size:  6pt;\n",
       "            background-color:  #5e3a98;\n",
       "            color:  #f1f1f1;\n",
       "        }#T_c33ae_row5_col6{\n",
       "            font-size:  6pt;\n",
       "            background-color:  #8a86bf;\n",
       "            color:  #000000;\n",
       "        }#T_c33ae_row5_col7{\n",
       "            font-size:  6pt;\n",
       "            background-color:  #ecebf4;\n",
       "            color:  #000000;\n",
       "        }#T_c33ae_row5_col8{\n",
       "            font-size:  6pt;\n",
       "            background-color:  #7566ae;\n",
       "            color:  #000000;\n",
       "        }#T_c33ae_row5_col9{\n",
       "            font-size:  6pt;\n",
       "            background-color:  #4f1d8b;\n",
       "            color:  #f1f1f1;\n",
       "        }#T_c33ae_row5_col10{\n",
       "            font-size:  6pt;\n",
       "            background-color:  #f3f1f7;\n",
       "            color:  #000000;\n",
       "        }#T_c33ae_row6_col0,#T_c33ae_row18_col4,#T_c33ae_row18_col5{\n",
       "            font-size:  6pt;\n",
       "            background-color:  #c1c2df;\n",
       "            color:  #000000;\n",
       "        }#T_c33ae_row6_col1{\n",
       "            font-size:  6pt;\n",
       "            background-color:  #9894c5;\n",
       "            color:  #000000;\n",
       "        }#T_c33ae_row6_col2{\n",
       "            font-size:  6pt;\n",
       "            background-color:  #9793c5;\n",
       "            color:  #000000;\n",
       "        }#T_c33ae_row6_col3{\n",
       "            font-size:  6pt;\n",
       "            background-color:  #a19eca;\n",
       "            color:  #000000;\n",
       "        }#T_c33ae_row6_col4,#T_c33ae_row8_col12,#T_c33ae_row17_col0{\n",
       "            font-size:  6pt;\n",
       "            background-color:  #d6d6e9;\n",
       "            color:  #000000;\n",
       "        }#T_c33ae_row6_col6{\n",
       "            font-size:  6pt;\n",
       "            background-color:  #efedf5;\n",
       "            color:  #000000;\n",
       "        }#T_c33ae_row6_col7{\n",
       "            font-size:  6pt;\n",
       "            background-color:  #552a90;\n",
       "            color:  #f1f1f1;\n",
       "        }#T_c33ae_row6_col9{\n",
       "            font-size:  6pt;\n",
       "            background-color:  #613f9a;\n",
       "            color:  #f1f1f1;\n",
       "        }#T_c33ae_row6_col10,#T_c33ae_row7_col5{\n",
       "            font-size:  6pt;\n",
       "            background-color:  #c4c5e0;\n",
       "            color:  #000000;\n",
       "        }#T_c33ae_row7_col6{\n",
       "            font-size:  6pt;\n",
       "            background-color:  #42057f;\n",
       "            color:  #f1f1f1;\n",
       "        }#T_c33ae_row7_col9{\n",
       "            font-size:  6pt;\n",
       "            background-color:  #572c92;\n",
       "            color:  #f1f1f1;\n",
       "        }#T_c33ae_row7_col10,#T_c33ae_row19_col5{\n",
       "            font-size:  6pt;\n",
       "            background-color:  #40017e;\n",
       "            color:  #f1f1f1;\n",
       "        }#T_c33ae_row7_col11,#T_c33ae_row9_col5,#T_c33ae_row10_col13{\n",
       "            font-size:  6pt;\n",
       "            background-color:  #a29fcb;\n",
       "            color:  #000000;\n",
       "        }#T_c33ae_row8_col4{\n",
       "            font-size:  6pt;\n",
       "            background-color:  #8784bd;\n",
       "            color:  #000000;\n",
       "        }#T_c33ae_row8_col7{\n",
       "            font-size:  6pt;\n",
       "            background-color:  #d7d7e9;\n",
       "            color:  #000000;\n",
       "        }#T_c33ae_row8_col9,#T_c33ae_row9_col6,#T_c33ae_row16_col12{\n",
       "            font-size:  6pt;\n",
       "            background-color:  #faf9fc;\n",
       "            color:  #000000;\n",
       "        }#T_c33ae_row8_col10{\n",
       "            font-size:  6pt;\n",
       "            background-color:  #a5a2cd;\n",
       "            color:  #000000;\n",
       "        }#T_c33ae_row9_col3{\n",
       "            font-size:  6pt;\n",
       "            background-color:  #f8f7fa;\n",
       "            color:  #000000;\n",
       "        }#T_c33ae_row9_col4{\n",
       "            font-size:  6pt;\n",
       "            background-color:  #776ab0;\n",
       "            color:  #000000;\n",
       "        }#T_c33ae_row9_col12{\n",
       "            font-size:  6pt;\n",
       "            background-color:  #acaad1;\n",
       "            color:  #000000;\n",
       "        }#T_c33ae_row10_col11,#T_c33ae_row18_col7{\n",
       "            font-size:  6pt;\n",
       "            background-color:  #7970b3;\n",
       "            color:  #000000;\n",
       "        }#T_c33ae_row10_col12{\n",
       "            font-size:  6pt;\n",
       "            background-color:  #4d1b89;\n",
       "            color:  #f1f1f1;\n",
       "        }#T_c33ae_row11_col11,#T_c33ae_row12_col11,#T_c33ae_row13_col11{\n",
       "            font-size:  6pt;\n",
       "            background-color:  #9b97c6;\n",
       "            color:  #000000;\n",
       "        }#T_c33ae_row13_col12{\n",
       "            font-size:  6pt;\n",
       "            background-color:  #4c1888;\n",
       "            color:  #f1f1f1;\n",
       "        }#T_c33ae_row13_col13{\n",
       "            font-size:  6pt;\n",
       "            background-color:  #9a96c6;\n",
       "            color:  #000000;\n",
       "        }#T_c33ae_row15_col10{\n",
       "            font-size:  6pt;\n",
       "            background-color:  #ddddec;\n",
       "            color:  #000000;\n",
       "        }#T_c33ae_row15_col12{\n",
       "            font-size:  6pt;\n",
       "            background-color:  #cacae3;\n",
       "            color:  #000000;\n",
       "        }#T_c33ae_row16_col10,#T_c33ae_row17_col9{\n",
       "            font-size:  6pt;\n",
       "            background-color:  #53268f;\n",
       "            color:  #f1f1f1;\n",
       "        }#T_c33ae_row16_col11{\n",
       "            font-size:  6pt;\n",
       "            background-color:  #603e9a;\n",
       "            color:  #f1f1f1;\n",
       "        }#T_c33ae_row17_col8{\n",
       "            font-size:  6pt;\n",
       "            background-color:  #e5e4f0;\n",
       "            color:  #000000;\n",
       "        }#T_c33ae_row17_col10{\n",
       "            font-size:  6pt;\n",
       "            background-color:  #5a3294;\n",
       "            color:  #f1f1f1;\n",
       "        }#T_c33ae_row18_col0{\n",
       "            font-size:  6pt;\n",
       "            background-color:  #481185;\n",
       "            color:  #f1f1f1;\n",
       "        }#T_c33ae_row18_col2{\n",
       "            font-size:  6pt;\n",
       "            background-color:  #776cb1;\n",
       "            color:  #000000;\n",
       "        }#T_c33ae_row18_col3{\n",
       "            font-size:  6pt;\n",
       "            background-color:  #a9a7cf;\n",
       "            color:  #000000;\n",
       "        }#T_c33ae_row18_col8,#T_c33ae_row19_col3{\n",
       "            font-size:  6pt;\n",
       "            background-color:  #440981;\n",
       "            color:  #f1f1f1;\n",
       "        }#T_c33ae_row18_col9{\n",
       "            font-size:  6pt;\n",
       "            background-color:  #807cba;\n",
       "            color:  #000000;\n",
       "        }#T_c33ae_row18_col10{\n",
       "            font-size:  6pt;\n",
       "            background-color:  #f1eff6;\n",
       "            color:  #000000;\n",
       "        }#T_c33ae_row19_col2{\n",
       "            font-size:  6pt;\n",
       "            background-color:  #7262ac;\n",
       "            color:  #000000;\n",
       "        }#T_c33ae_row19_col7{\n",
       "            font-size:  6pt;\n",
       "            background-color:  #6e5aa8;\n",
       "            color:  #f1f1f1;\n",
       "        }#T_c33ae_row19_col8{\n",
       "            font-size:  6pt;\n",
       "            background-color:  #c8c8e2;\n",
       "            color:  #000000;\n",
       "        }</style><table id=\"T_c33ae_\" ><thead>    <tr>        <th class=\"blank level0\" ></th>        <th class=\"col_heading level0 col0\" >0</th>        <th class=\"col_heading level0 col1\" >1</th>        <th class=\"col_heading level0 col2\" >2</th>        <th class=\"col_heading level0 col3\" >3</th>        <th class=\"col_heading level0 col4\" >4</th>        <th class=\"col_heading level0 col5\" >5</th>        <th class=\"col_heading level0 col6\" >6</th>        <th class=\"col_heading level0 col7\" >7</th>        <th class=\"col_heading level0 col8\" >8</th>        <th class=\"col_heading level0 col9\" >9</th>        <th class=\"col_heading level0 col10\" >10</th>        <th class=\"col_heading level0 col11\" >11</th>        <th class=\"col_heading level0 col12\" >12</th>        <th class=\"col_heading level0 col13\" >13</th>        <th class=\"col_heading level0 col14\" >14</th>        <th class=\"col_heading level0 col15\" >15</th>    </tr></thead><tbody>\n",
       "                <tr>\n",
       "                        <th id=\"T_c33ae_level0_row0\" class=\"row_heading level0 row0\" >0</th>\n",
       "                        <td id=\"T_c33ae_row0_col0\" class=\"data row0 col0\" >0</td>\n",
       "                        <td id=\"T_c33ae_row0_col1\" class=\"data row0 col1\" >0</td>\n",
       "                        <td id=\"T_c33ae_row0_col2\" class=\"data row0 col2\" >0</td>\n",
       "                        <td id=\"T_c33ae_row0_col3\" class=\"data row0 col3\" >0</td>\n",
       "                        <td id=\"T_c33ae_row0_col4\" class=\"data row0 col4\" >0</td>\n",
       "                        <td id=\"T_c33ae_row0_col5\" class=\"data row0 col5\" >0</td>\n",
       "                        <td id=\"T_c33ae_row0_col6\" class=\"data row0 col6\" >0</td>\n",
       "                        <td id=\"T_c33ae_row0_col7\" class=\"data row0 col7\" >0</td>\n",
       "                        <td id=\"T_c33ae_row0_col8\" class=\"data row0 col8\" >0</td>\n",
       "                        <td id=\"T_c33ae_row0_col9\" class=\"data row0 col9\" >0</td>\n",
       "                        <td id=\"T_c33ae_row0_col10\" class=\"data row0 col10\" >20</td>\n",
       "                        <td id=\"T_c33ae_row0_col11\" class=\"data row0 col11\" >188</td>\n",
       "                        <td id=\"T_c33ae_row0_col12\" class=\"data row0 col12\" >213</td>\n",
       "                        <td id=\"T_c33ae_row0_col13\" class=\"data row0 col13\" >0</td>\n",
       "                        <td id=\"T_c33ae_row0_col14\" class=\"data row0 col14\" >0</td>\n",
       "                        <td id=\"T_c33ae_row0_col15\" class=\"data row0 col15\" >0</td>\n",
       "            </tr>\n",
       "            <tr>\n",
       "                        <th id=\"T_c33ae_level0_row1\" class=\"row_heading level0 row1\" >1</th>\n",
       "                        <td id=\"T_c33ae_row1_col0\" class=\"data row1 col0\" >0</td>\n",
       "                        <td id=\"T_c33ae_row1_col1\" class=\"data row1 col1\" >0</td>\n",
       "                        <td id=\"T_c33ae_row1_col2\" class=\"data row1 col2\" >0</td>\n",
       "                        <td id=\"T_c33ae_row1_col3\" class=\"data row1 col3\" >0</td>\n",
       "                        <td id=\"T_c33ae_row1_col4\" class=\"data row1 col4\" >0</td>\n",
       "                        <td id=\"T_c33ae_row1_col5\" class=\"data row1 col5\" >0</td>\n",
       "                        <td id=\"T_c33ae_row1_col6\" class=\"data row1 col6\" >0</td>\n",
       "                        <td id=\"T_c33ae_row1_col7\" class=\"data row1 col7\" >0</td>\n",
       "                        <td id=\"T_c33ae_row1_col8\" class=\"data row1 col8\" >0</td>\n",
       "                        <td id=\"T_c33ae_row1_col9\" class=\"data row1 col9\" >30</td>\n",
       "                        <td id=\"T_c33ae_row1_col10\" class=\"data row1 col10\" >212</td>\n",
       "                        <td id=\"T_c33ae_row1_col11\" class=\"data row1 col11\" >254</td>\n",
       "                        <td id=\"T_c33ae_row1_col12\" class=\"data row1 col12\" >141</td>\n",
       "                        <td id=\"T_c33ae_row1_col13\" class=\"data row1 col13\" >0</td>\n",
       "                        <td id=\"T_c33ae_row1_col14\" class=\"data row1 col14\" >0</td>\n",
       "                        <td id=\"T_c33ae_row1_col15\" class=\"data row1 col15\" >0</td>\n",
       "            </tr>\n",
       "            <tr>\n",
       "                        <th id=\"T_c33ae_level0_row2\" class=\"row_heading level0 row2\" >2</th>\n",
       "                        <td id=\"T_c33ae_row2_col0\" class=\"data row2 col0\" >44</td>\n",
       "                        <td id=\"T_c33ae_row2_col1\" class=\"data row2 col1\" >0</td>\n",
       "                        <td id=\"T_c33ae_row2_col2\" class=\"data row2 col2\" >0</td>\n",
       "                        <td id=\"T_c33ae_row2_col3\" class=\"data row2 col3\" >0</td>\n",
       "                        <td id=\"T_c33ae_row2_col4\" class=\"data row2 col4\" >0</td>\n",
       "                        <td id=\"T_c33ae_row2_col5\" class=\"data row2 col5\" >0</td>\n",
       "                        <td id=\"T_c33ae_row2_col6\" class=\"data row2 col6\" >0</td>\n",
       "                        <td id=\"T_c33ae_row2_col7\" class=\"data row2 col7\" >3</td>\n",
       "                        <td id=\"T_c33ae_row2_col8\" class=\"data row2 col8\" >75</td>\n",
       "                        <td id=\"T_c33ae_row2_col9\" class=\"data row2 col9\" >226</td>\n",
       "                        <td id=\"T_c33ae_row2_col10\" class=\"data row2 col10\" >254</td>\n",
       "                        <td id=\"T_c33ae_row2_col11\" class=\"data row2 col11\" >235</td>\n",
       "                        <td id=\"T_c33ae_row2_col12\" class=\"data row2 col12\" >16</td>\n",
       "                        <td id=\"T_c33ae_row2_col13\" class=\"data row2 col13\" >0</td>\n",
       "                        <td id=\"T_c33ae_row2_col14\" class=\"data row2 col14\" >0</td>\n",
       "                        <td id=\"T_c33ae_row2_col15\" class=\"data row2 col15\" >0</td>\n",
       "            </tr>\n",
       "            <tr>\n",
       "                        <th id=\"T_c33ae_level0_row3\" class=\"row_heading level0 row3\" >3</th>\n",
       "                        <td id=\"T_c33ae_row3_col0\" class=\"data row3 col0\" >173</td>\n",
       "                        <td id=\"T_c33ae_row3_col1\" class=\"data row3 col1\" >0</td>\n",
       "                        <td id=\"T_c33ae_row3_col2\" class=\"data row3 col2\" >0</td>\n",
       "                        <td id=\"T_c33ae_row3_col3\" class=\"data row3 col3\" >0</td>\n",
       "                        <td id=\"T_c33ae_row3_col4\" class=\"data row3 col4\" >0</td>\n",
       "                        <td id=\"T_c33ae_row3_col5\" class=\"data row3 col5\" >0</td>\n",
       "                        <td id=\"T_c33ae_row3_col6\" class=\"data row3 col6\" >63</td>\n",
       "                        <td id=\"T_c33ae_row3_col7\" class=\"data row3 col7\" >181</td>\n",
       "                        <td id=\"T_c33ae_row3_col8\" class=\"data row3 col8\" >254</td>\n",
       "                        <td id=\"T_c33ae_row3_col9\" class=\"data row3 col9\" >254</td>\n",
       "                        <td id=\"T_c33ae_row3_col10\" class=\"data row3 col10\" >254</td>\n",
       "                        <td id=\"T_c33ae_row3_col11\" class=\"data row3 col11\" >126</td>\n",
       "                        <td id=\"T_c33ae_row3_col12\" class=\"data row3 col12\" >0</td>\n",
       "                        <td id=\"T_c33ae_row3_col13\" class=\"data row3 col13\" >0</td>\n",
       "                        <td id=\"T_c33ae_row3_col14\" class=\"data row3 col14\" >0</td>\n",
       "                        <td id=\"T_c33ae_row3_col15\" class=\"data row3 col15\" >0</td>\n",
       "            </tr>\n",
       "            <tr>\n",
       "                        <th id=\"T_c33ae_level0_row4\" class=\"row_heading level0 row4\" >4</th>\n",
       "                        <td id=\"T_c33ae_row4_col0\" class=\"data row4 col0\" >179</td>\n",
       "                        <td id=\"T_c33ae_row4_col1\" class=\"data row4 col1\" >17</td>\n",
       "                        <td id=\"T_c33ae_row4_col2\" class=\"data row4 col2\" >15</td>\n",
       "                        <td id=\"T_c33ae_row4_col3\" class=\"data row4 col3\" >35</td>\n",
       "                        <td id=\"T_c33ae_row4_col4\" class=\"data row4 col4\" >91</td>\n",
       "                        <td id=\"T_c33ae_row4_col5\" class=\"data row4 col5\" >204</td>\n",
       "                        <td id=\"T_c33ae_row4_col6\" class=\"data row4 col6\" >249</td>\n",
       "                        <td id=\"T_c33ae_row4_col7\" class=\"data row4 col7\" >232</td>\n",
       "                        <td id=\"T_c33ae_row4_col8\" class=\"data row4 col8\" >92</td>\n",
       "                        <td id=\"T_c33ae_row4_col9\" class=\"data row4 col9\" >224</td>\n",
       "                        <td id=\"T_c33ae_row4_col10\" class=\"data row4 col10\" >185</td>\n",
       "                        <td id=\"T_c33ae_row4_col11\" class=\"data row4 col11\" >3</td>\n",
       "                        <td id=\"T_c33ae_row4_col12\" class=\"data row4 col12\" >0</td>\n",
       "                        <td id=\"T_c33ae_row4_col13\" class=\"data row4 col13\" >0</td>\n",
       "                        <td id=\"T_c33ae_row4_col14\" class=\"data row4 col14\" >0</td>\n",
       "                        <td id=\"T_c33ae_row4_col15\" class=\"data row4 col15\" >0</td>\n",
       "            </tr>\n",
       "            <tr>\n",
       "                        <th id=\"T_c33ae_level0_row5\" class=\"row_heading level0 row5\" >5</th>\n",
       "                        <td id=\"T_c33ae_row5_col0\" class=\"data row5 col0\" >252</td>\n",
       "                        <td id=\"T_c33ae_row5_col1\" class=\"data row5 col1\" >236</td>\n",
       "                        <td id=\"T_c33ae_row5_col2\" class=\"data row5 col2\" >235</td>\n",
       "                        <td id=\"T_c33ae_row5_col3\" class=\"data row5 col3\" >254</td>\n",
       "                        <td id=\"T_c33ae_row5_col4\" class=\"data row5 col4\" >254</td>\n",
       "                        <td id=\"T_c33ae_row5_col5\" class=\"data row5 col5\" >209</td>\n",
       "                        <td id=\"T_c33ae_row5_col6\" class=\"data row5 col6\" >145</td>\n",
       "                        <td id=\"T_c33ae_row5_col7\" class=\"data row5 col7\" >36</td>\n",
       "                        <td id=\"T_c33ae_row5_col8\" class=\"data row5 col8\" >175</td>\n",
       "                        <td id=\"T_c33ae_row5_col9\" class=\"data row5 col9\" >230</td>\n",
       "                        <td id=\"T_c33ae_row5_col10\" class=\"data row5 col10\" >23</td>\n",
       "                        <td id=\"T_c33ae_row5_col11\" class=\"data row5 col11\" >0</td>\n",
       "                        <td id=\"T_c33ae_row5_col12\" class=\"data row5 col12\" >0</td>\n",
       "                        <td id=\"T_c33ae_row5_col13\" class=\"data row5 col13\" >0</td>\n",
       "                        <td id=\"T_c33ae_row5_col14\" class=\"data row5 col14\" >0</td>\n",
       "                        <td id=\"T_c33ae_row5_col15\" class=\"data row5 col15\" >0</td>\n",
       "            </tr>\n",
       "            <tr>\n",
       "                        <th id=\"T_c33ae_level0_row6\" class=\"row_heading level0 row6\" >6</th>\n",
       "                        <td id=\"T_c33ae_row6_col0\" class=\"data row6 col0\" >89</td>\n",
       "                        <td id=\"T_c33ae_row6_col1\" class=\"data row6 col1\" >124</td>\n",
       "                        <td id=\"T_c33ae_row6_col2\" class=\"data row6 col2\" >124</td>\n",
       "                        <td id=\"T_c33ae_row6_col3\" class=\"data row6 col3\" >124</td>\n",
       "                        <td id=\"T_c33ae_row6_col4\" class=\"data row6 col4\" >68</td>\n",
       "                        <td id=\"T_c33ae_row6_col5\" class=\"data row6 col5\" >0</td>\n",
       "                        <td id=\"T_c33ae_row6_col6\" class=\"data row6 col6\" >32</td>\n",
       "                        <td id=\"T_c33ae_row6_col7\" class=\"data row6 col7\" >219</td>\n",
       "                        <td id=\"T_c33ae_row6_col8\" class=\"data row6 col8\" >254</td>\n",
       "                        <td id=\"T_c33ae_row6_col9\" class=\"data row6 col9\" >204</td>\n",
       "                        <td id=\"T_c33ae_row6_col10\" class=\"data row6 col10\" >87</td>\n",
       "                        <td id=\"T_c33ae_row6_col11\" class=\"data row6 col11\" >0</td>\n",
       "                        <td id=\"T_c33ae_row6_col12\" class=\"data row6 col12\" >0</td>\n",
       "                        <td id=\"T_c33ae_row6_col13\" class=\"data row6 col13\" >0</td>\n",
       "                        <td id=\"T_c33ae_row6_col14\" class=\"data row6 col14\" >0</td>\n",
       "                        <td id=\"T_c33ae_row6_col15\" class=\"data row6 col15\" >0</td>\n",
       "            </tr>\n",
       "            <tr>\n",
       "                        <th id=\"T_c33ae_level0_row7\" class=\"row_heading level0 row7\" >7</th>\n",
       "                        <td id=\"T_c33ae_row7_col0\" class=\"data row7 col0\" >0</td>\n",
       "                        <td id=\"T_c33ae_row7_col1\" class=\"data row7 col1\" >0</td>\n",
       "                        <td id=\"T_c33ae_row7_col2\" class=\"data row7 col2\" >0</td>\n",
       "                        <td id=\"T_c33ae_row7_col3\" class=\"data row7 col3\" >0</td>\n",
       "                        <td id=\"T_c33ae_row7_col4\" class=\"data row7 col4\" >0</td>\n",
       "                        <td id=\"T_c33ae_row7_col5\" class=\"data row7 col5\" >87</td>\n",
       "                        <td id=\"T_c33ae_row7_col6\" class=\"data row7 col6\" >245</td>\n",
       "                        <td id=\"T_c33ae_row7_col7\" class=\"data row7 col7\" >253</td>\n",
       "                        <td id=\"T_c33ae_row7_col8\" class=\"data row7 col8\" >212</td>\n",
       "                        <td id=\"T_c33ae_row7_col9\" class=\"data row7 col9\" >218</td>\n",
       "                        <td id=\"T_c33ae_row7_col10\" class=\"data row7 col10\" >253</td>\n",
       "                        <td id=\"T_c33ae_row7_col11\" class=\"data row7 col11\" >123</td>\n",
       "                        <td id=\"T_c33ae_row7_col12\" class=\"data row7 col12\" >2</td>\n",
       "                        <td id=\"T_c33ae_row7_col13\" class=\"data row7 col13\" >0</td>\n",
       "                        <td id=\"T_c33ae_row7_col14\" class=\"data row7 col14\" >0</td>\n",
       "                        <td id=\"T_c33ae_row7_col15\" class=\"data row7 col15\" >0</td>\n",
       "            </tr>\n",
       "            <tr>\n",
       "                        <th id=\"T_c33ae_level0_row8\" class=\"row_heading level0 row8\" >8</th>\n",
       "                        <td id=\"T_c33ae_row8_col0\" class=\"data row8 col0\" >0</td>\n",
       "                        <td id=\"T_c33ae_row8_col1\" class=\"data row8 col1\" >0</td>\n",
       "                        <td id=\"T_c33ae_row8_col2\" class=\"data row8 col2\" >0</td>\n",
       "                        <td id=\"T_c33ae_row8_col3\" class=\"data row8 col3\" >2</td>\n",
       "                        <td id=\"T_c33ae_row8_col4\" class=\"data row8 col4\" >151</td>\n",
       "                        <td id=\"T_c33ae_row8_col5\" class=\"data row8 col5\" >255</td>\n",
       "                        <td id=\"T_c33ae_row8_col6\" class=\"data row8 col6\" >209</td>\n",
       "                        <td id=\"T_c33ae_row8_col7\" class=\"data row8 col7\" >67</td>\n",
       "                        <td id=\"T_c33ae_row8_col8\" class=\"data row8 col8\" >0</td>\n",
       "                        <td id=\"T_c33ae_row8_col9\" class=\"data row8 col9\" >4</td>\n",
       "                        <td id=\"T_c33ae_row8_col10\" class=\"data row8 col10\" >120</td>\n",
       "                        <td id=\"T_c33ae_row8_col11\" class=\"data row8 col11\" >254</td>\n",
       "                        <td id=\"T_c33ae_row8_col12\" class=\"data row8 col12\" >68</td>\n",
       "                        <td id=\"T_c33ae_row8_col13\" class=\"data row8 col13\" >0</td>\n",
       "                        <td id=\"T_c33ae_row8_col14\" class=\"data row8 col14\" >0</td>\n",
       "                        <td id=\"T_c33ae_row8_col15\" class=\"data row8 col15\" >0</td>\n",
       "            </tr>\n",
       "            <tr>\n",
       "                        <th id=\"T_c33ae_level0_row9\" class=\"row_heading level0 row9\" >9</th>\n",
       "                        <td id=\"T_c33ae_row9_col0\" class=\"data row9 col0\" >0</td>\n",
       "                        <td id=\"T_c33ae_row9_col1\" class=\"data row9 col1\" >0</td>\n",
       "                        <td id=\"T_c33ae_row9_col2\" class=\"data row9 col2\" >0</td>\n",
       "                        <td id=\"T_c33ae_row9_col3\" class=\"data row9 col3\" >10</td>\n",
       "                        <td id=\"T_c33ae_row9_col4\" class=\"data row9 col4\" >172</td>\n",
       "                        <td id=\"T_c33ae_row9_col5\" class=\"data row9 col5\" >123</td>\n",
       "                        <td id=\"T_c33ae_row9_col6\" class=\"data row9 col6\" >4</td>\n",
       "                        <td id=\"T_c33ae_row9_col7\" class=\"data row9 col7\" >0</td>\n",
       "                        <td id=\"T_c33ae_row9_col8\" class=\"data row9 col8\" >0</td>\n",
       "                        <td id=\"T_c33ae_row9_col9\" class=\"data row9 col9\" >0</td>\n",
       "                        <td id=\"T_c33ae_row9_col10\" class=\"data row9 col10\" >20</td>\n",
       "                        <td id=\"T_c33ae_row9_col11\" class=\"data row9 col11\" >224</td>\n",
       "                        <td id=\"T_c33ae_row9_col12\" class=\"data row9 col12\" >113</td>\n",
       "                        <td id=\"T_c33ae_row9_col13\" class=\"data row9 col13\" >0</td>\n",
       "                        <td id=\"T_c33ae_row9_col14\" class=\"data row9 col14\" >0</td>\n",
       "                        <td id=\"T_c33ae_row9_col15\" class=\"data row9 col15\" >0</td>\n",
       "            </tr>\n",
       "            <tr>\n",
       "                        <th id=\"T_c33ae_level0_row10\" class=\"row_heading level0 row10\" >10</th>\n",
       "                        <td id=\"T_c33ae_row10_col0\" class=\"data row10 col0\" >0</td>\n",
       "                        <td id=\"T_c33ae_row10_col1\" class=\"data row10 col1\" >0</td>\n",
       "                        <td id=\"T_c33ae_row10_col2\" class=\"data row10 col2\" >0</td>\n",
       "                        <td id=\"T_c33ae_row10_col3\" class=\"data row10 col3\" >0</td>\n",
       "                        <td id=\"T_c33ae_row10_col4\" class=\"data row10 col4\" >0</td>\n",
       "                        <td id=\"T_c33ae_row10_col5\" class=\"data row10 col5\" >0</td>\n",
       "                        <td id=\"T_c33ae_row10_col6\" class=\"data row10 col6\" >0</td>\n",
       "                        <td id=\"T_c33ae_row10_col7\" class=\"data row10 col7\" >0</td>\n",
       "                        <td id=\"T_c33ae_row10_col8\" class=\"data row10 col8\" >0</td>\n",
       "                        <td id=\"T_c33ae_row10_col9\" class=\"data row10 col9\" >0</td>\n",
       "                        <td id=\"T_c33ae_row10_col10\" class=\"data row10 col10\" >0</td>\n",
       "                        <td id=\"T_c33ae_row10_col11\" class=\"data row10 col11\" >168</td>\n",
       "                        <td id=\"T_c33ae_row10_col12\" class=\"data row10 col12\" >232</td>\n",
       "                        <td id=\"T_c33ae_row10_col13\" class=\"data row10 col13\" >13</td>\n",
       "                        <td id=\"T_c33ae_row10_col14\" class=\"data row10 col14\" >0</td>\n",
       "                        <td id=\"T_c33ae_row10_col15\" class=\"data row10 col15\" >0</td>\n",
       "            </tr>\n",
       "            <tr>\n",
       "                        <th id=\"T_c33ae_level0_row11\" class=\"row_heading level0 row11\" >11</th>\n",
       "                        <td id=\"T_c33ae_row11_col0\" class=\"data row11 col0\" >0</td>\n",
       "                        <td id=\"T_c33ae_row11_col1\" class=\"data row11 col1\" >0</td>\n",
       "                        <td id=\"T_c33ae_row11_col2\" class=\"data row11 col2\" >0</td>\n",
       "                        <td id=\"T_c33ae_row11_col3\" class=\"data row11 col3\" >0</td>\n",
       "                        <td id=\"T_c33ae_row11_col4\" class=\"data row11 col4\" >0</td>\n",
       "                        <td id=\"T_c33ae_row11_col5\" class=\"data row11 col5\" >0</td>\n",
       "                        <td id=\"T_c33ae_row11_col6\" class=\"data row11 col6\" >0</td>\n",
       "                        <td id=\"T_c33ae_row11_col7\" class=\"data row11 col7\" >0</td>\n",
       "                        <td id=\"T_c33ae_row11_col8\" class=\"data row11 col8\" >0</td>\n",
       "                        <td id=\"T_c33ae_row11_col9\" class=\"data row11 col9\" >0</td>\n",
       "                        <td id=\"T_c33ae_row11_col10\" class=\"data row11 col10\" >0</td>\n",
       "                        <td id=\"T_c33ae_row11_col11\" class=\"data row11 col11\" >130</td>\n",
       "                        <td id=\"T_c33ae_row11_col12\" class=\"data row11 col12\" >254</td>\n",
       "                        <td id=\"T_c33ae_row11_col13\" class=\"data row11 col13\" >27</td>\n",
       "                        <td id=\"T_c33ae_row11_col14\" class=\"data row11 col14\" >0</td>\n",
       "                        <td id=\"T_c33ae_row11_col15\" class=\"data row11 col15\" >0</td>\n",
       "            </tr>\n",
       "            <tr>\n",
       "                        <th id=\"T_c33ae_level0_row12\" class=\"row_heading level0 row12\" >12</th>\n",
       "                        <td id=\"T_c33ae_row12_col0\" class=\"data row12 col0\" >0</td>\n",
       "                        <td id=\"T_c33ae_row12_col1\" class=\"data row12 col1\" >0</td>\n",
       "                        <td id=\"T_c33ae_row12_col2\" class=\"data row12 col2\" >0</td>\n",
       "                        <td id=\"T_c33ae_row12_col3\" class=\"data row12 col3\" >0</td>\n",
       "                        <td id=\"T_c33ae_row12_col4\" class=\"data row12 col4\" >0</td>\n",
       "                        <td id=\"T_c33ae_row12_col5\" class=\"data row12 col5\" >0</td>\n",
       "                        <td id=\"T_c33ae_row12_col6\" class=\"data row12 col6\" >0</td>\n",
       "                        <td id=\"T_c33ae_row12_col7\" class=\"data row12 col7\" >0</td>\n",
       "                        <td id=\"T_c33ae_row12_col8\" class=\"data row12 col8\" >0</td>\n",
       "                        <td id=\"T_c33ae_row12_col9\" class=\"data row12 col9\" >0</td>\n",
       "                        <td id=\"T_c33ae_row12_col10\" class=\"data row12 col10\" >0</td>\n",
       "                        <td id=\"T_c33ae_row12_col11\" class=\"data row12 col11\" >130</td>\n",
       "                        <td id=\"T_c33ae_row12_col12\" class=\"data row12 col12\" >254</td>\n",
       "                        <td id=\"T_c33ae_row12_col13\" class=\"data row12 col13\" >27</td>\n",
       "                        <td id=\"T_c33ae_row12_col14\" class=\"data row12 col14\" >0</td>\n",
       "                        <td id=\"T_c33ae_row12_col15\" class=\"data row12 col15\" >0</td>\n",
       "            </tr>\n",
       "            <tr>\n",
       "                        <th id=\"T_c33ae_level0_row13\" class=\"row_heading level0 row13\" >13</th>\n",
       "                        <td id=\"T_c33ae_row13_col0\" class=\"data row13 col0\" >0</td>\n",
       "                        <td id=\"T_c33ae_row13_col1\" class=\"data row13 col1\" >0</td>\n",
       "                        <td id=\"T_c33ae_row13_col2\" class=\"data row13 col2\" >0</td>\n",
       "                        <td id=\"T_c33ae_row13_col3\" class=\"data row13 col3\" >0</td>\n",
       "                        <td id=\"T_c33ae_row13_col4\" class=\"data row13 col4\" >0</td>\n",
       "                        <td id=\"T_c33ae_row13_col5\" class=\"data row13 col5\" >0</td>\n",
       "                        <td id=\"T_c33ae_row13_col6\" class=\"data row13 col6\" >0</td>\n",
       "                        <td id=\"T_c33ae_row13_col7\" class=\"data row13 col7\" >0</td>\n",
       "                        <td id=\"T_c33ae_row13_col8\" class=\"data row13 col8\" >0</td>\n",
       "                        <td id=\"T_c33ae_row13_col9\" class=\"data row13 col9\" >0</td>\n",
       "                        <td id=\"T_c33ae_row13_col10\" class=\"data row13 col10\" >0</td>\n",
       "                        <td id=\"T_c33ae_row13_col11\" class=\"data row13 col11\" >130</td>\n",
       "                        <td id=\"T_c33ae_row13_col12\" class=\"data row13 col12\" >234</td>\n",
       "                        <td id=\"T_c33ae_row13_col13\" class=\"data row13 col13\" >14</td>\n",
       "                        <td id=\"T_c33ae_row13_col14\" class=\"data row13 col14\" >0</td>\n",
       "                        <td id=\"T_c33ae_row13_col15\" class=\"data row13 col15\" >0</td>\n",
       "            </tr>\n",
       "            <tr>\n",
       "                        <th id=\"T_c33ae_level0_row14\" class=\"row_heading level0 row14\" >14</th>\n",
       "                        <td id=\"T_c33ae_row14_col0\" class=\"data row14 col0\" >0</td>\n",
       "                        <td id=\"T_c33ae_row14_col1\" class=\"data row14 col1\" >0</td>\n",
       "                        <td id=\"T_c33ae_row14_col2\" class=\"data row14 col2\" >0</td>\n",
       "                        <td id=\"T_c33ae_row14_col3\" class=\"data row14 col3\" >0</td>\n",
       "                        <td id=\"T_c33ae_row14_col4\" class=\"data row14 col4\" >0</td>\n",
       "                        <td id=\"T_c33ae_row14_col5\" class=\"data row14 col5\" >0</td>\n",
       "                        <td id=\"T_c33ae_row14_col6\" class=\"data row14 col6\" >0</td>\n",
       "                        <td id=\"T_c33ae_row14_col7\" class=\"data row14 col7\" >0</td>\n",
       "                        <td id=\"T_c33ae_row14_col8\" class=\"data row14 col8\" >0</td>\n",
       "                        <td id=\"T_c33ae_row14_col9\" class=\"data row14 col9\" >0</td>\n",
       "                        <td id=\"T_c33ae_row14_col10\" class=\"data row14 col10\" >2</td>\n",
       "                        <td id=\"T_c33ae_row14_col11\" class=\"data row14 col11\" >203</td>\n",
       "                        <td id=\"T_c33ae_row14_col12\" class=\"data row14 col12\" >203</td>\n",
       "                        <td id=\"T_c33ae_row14_col13\" class=\"data row14 col13\" >0</td>\n",
       "                        <td id=\"T_c33ae_row14_col14\" class=\"data row14 col14\" >0</td>\n",
       "                        <td id=\"T_c33ae_row14_col15\" class=\"data row14 col15\" >0</td>\n",
       "            </tr>\n",
       "            <tr>\n",
       "                        <th id=\"T_c33ae_level0_row15\" class=\"row_heading level0 row15\" >15</th>\n",
       "                        <td id=\"T_c33ae_row15_col0\" class=\"data row15 col0\" >0</td>\n",
       "                        <td id=\"T_c33ae_row15_col1\" class=\"data row15 col1\" >0</td>\n",
       "                        <td id=\"T_c33ae_row15_col2\" class=\"data row15 col2\" >0</td>\n",
       "                        <td id=\"T_c33ae_row15_col3\" class=\"data row15 col3\" >0</td>\n",
       "                        <td id=\"T_c33ae_row15_col4\" class=\"data row15 col4\" >0</td>\n",
       "                        <td id=\"T_c33ae_row15_col5\" class=\"data row15 col5\" >0</td>\n",
       "                        <td id=\"T_c33ae_row15_col6\" class=\"data row15 col6\" >0</td>\n",
       "                        <td id=\"T_c33ae_row15_col7\" class=\"data row15 col7\" >0</td>\n",
       "                        <td id=\"T_c33ae_row15_col8\" class=\"data row15 col8\" >0</td>\n",
       "                        <td id=\"T_c33ae_row15_col9\" class=\"data row15 col9\" >0</td>\n",
       "                        <td id=\"T_c33ae_row15_col10\" class=\"data row15 col10\" >59</td>\n",
       "                        <td id=\"T_c33ae_row15_col11\" class=\"data row15 col11\" >254</td>\n",
       "                        <td id=\"T_c33ae_row15_col12\" class=\"data row15 col12\" >81</td>\n",
       "                        <td id=\"T_c33ae_row15_col13\" class=\"data row15 col13\" >0</td>\n",
       "                        <td id=\"T_c33ae_row15_col14\" class=\"data row15 col14\" >0</td>\n",
       "                        <td id=\"T_c33ae_row15_col15\" class=\"data row15 col15\" >0</td>\n",
       "            </tr>\n",
       "            <tr>\n",
       "                        <th id=\"T_c33ae_level0_row16\" class=\"row_heading level0 row16\" >16</th>\n",
       "                        <td id=\"T_c33ae_row16_col0\" class=\"data row16 col0\" >0</td>\n",
       "                        <td id=\"T_c33ae_row16_col1\" class=\"data row16 col1\" >0</td>\n",
       "                        <td id=\"T_c33ae_row16_col2\" class=\"data row16 col2\" >0</td>\n",
       "                        <td id=\"T_c33ae_row16_col3\" class=\"data row16 col3\" >0</td>\n",
       "                        <td id=\"T_c33ae_row16_col4\" class=\"data row16 col4\" >0</td>\n",
       "                        <td id=\"T_c33ae_row16_col5\" class=\"data row16 col5\" >0</td>\n",
       "                        <td id=\"T_c33ae_row16_col6\" class=\"data row16 col6\" >0</td>\n",
       "                        <td id=\"T_c33ae_row16_col7\" class=\"data row16 col7\" >0</td>\n",
       "                        <td id=\"T_c33ae_row16_col8\" class=\"data row16 col8\" >0</td>\n",
       "                        <td id=\"T_c33ae_row16_col9\" class=\"data row16 col9\" >18</td>\n",
       "                        <td id=\"T_c33ae_row16_col10\" class=\"data row16 col10\" >223</td>\n",
       "                        <td id=\"T_c33ae_row16_col11\" class=\"data row16 col11\" >205</td>\n",
       "                        <td id=\"T_c33ae_row16_col12\" class=\"data row16 col12\" >4</td>\n",
       "                        <td id=\"T_c33ae_row16_col13\" class=\"data row16 col13\" >0</td>\n",
       "                        <td id=\"T_c33ae_row16_col14\" class=\"data row16 col14\" >0</td>\n",
       "                        <td id=\"T_c33ae_row16_col15\" class=\"data row16 col15\" >0</td>\n",
       "            </tr>\n",
       "            <tr>\n",
       "                        <th id=\"T_c33ae_level0_row17\" class=\"row_heading level0 row17\" >17</th>\n",
       "                        <td id=\"T_c33ae_row17_col0\" class=\"data row17 col0\" >67</td>\n",
       "                        <td id=\"T_c33ae_row17_col1\" class=\"data row17 col1\" >0</td>\n",
       "                        <td id=\"T_c33ae_row17_col2\" class=\"data row17 col2\" >0</td>\n",
       "                        <td id=\"T_c33ae_row17_col3\" class=\"data row17 col3\" >0</td>\n",
       "                        <td id=\"T_c33ae_row17_col4\" class=\"data row17 col4\" >0</td>\n",
       "                        <td id=\"T_c33ae_row17_col5\" class=\"data row17 col5\" >0</td>\n",
       "                        <td id=\"T_c33ae_row17_col6\" class=\"data row17 col6\" >0</td>\n",
       "                        <td id=\"T_c33ae_row17_col7\" class=\"data row17 col7\" >0</td>\n",
       "                        <td id=\"T_c33ae_row17_col8\" class=\"data row17 col8\" >47</td>\n",
       "                        <td id=\"T_c33ae_row17_col9\" class=\"data row17 col9\" >223</td>\n",
       "                        <td id=\"T_c33ae_row17_col10\" class=\"data row17 col10\" >214</td>\n",
       "                        <td id=\"T_c33ae_row17_col11\" class=\"data row17 col11\" >18</td>\n",
       "                        <td id=\"T_c33ae_row17_col12\" class=\"data row17 col12\" >0</td>\n",
       "                        <td id=\"T_c33ae_row17_col13\" class=\"data row17 col13\" >0</td>\n",
       "                        <td id=\"T_c33ae_row17_col14\" class=\"data row17 col14\" >0</td>\n",
       "                        <td id=\"T_c33ae_row17_col15\" class=\"data row17 col15\" >0</td>\n",
       "            </tr>\n",
       "            <tr>\n",
       "                        <th id=\"T_c33ae_level0_row18\" class=\"row_heading level0 row18\" >18</th>\n",
       "                        <td id=\"T_c33ae_row18_col0\" class=\"data row18 col0\" >238</td>\n",
       "                        <td id=\"T_c33ae_row18_col1\" class=\"data row18 col1\" >210</td>\n",
       "                        <td id=\"T_c33ae_row18_col2\" class=\"data row18 col2\" >158</td>\n",
       "                        <td id=\"T_c33ae_row18_col3\" class=\"data row18 col3\" >116</td>\n",
       "                        <td id=\"T_c33ae_row18_col4\" class=\"data row18 col4\" >90</td>\n",
       "                        <td id=\"T_c33ae_row18_col5\" class=\"data row18 col5\" >90</td>\n",
       "                        <td id=\"T_c33ae_row18_col6\" class=\"data row18 col6\" >90</td>\n",
       "                        <td id=\"T_c33ae_row18_col7\" class=\"data row18 col7\" >168</td>\n",
       "                        <td id=\"T_c33ae_row18_col8\" class=\"data row18 col8\" >247</td>\n",
       "                        <td id=\"T_c33ae_row18_col9\" class=\"data row18 col9\" >159</td>\n",
       "                        <td id=\"T_c33ae_row18_col10\" class=\"data row18 col10\" >28</td>\n",
       "                        <td id=\"T_c33ae_row18_col11\" class=\"data row18 col11\" >0</td>\n",
       "                        <td id=\"T_c33ae_row18_col12\" class=\"data row18 col12\" >0</td>\n",
       "                        <td id=\"T_c33ae_row18_col13\" class=\"data row18 col13\" >0</td>\n",
       "                        <td id=\"T_c33ae_row18_col14\" class=\"data row18 col14\" >0</td>\n",
       "                        <td id=\"T_c33ae_row18_col15\" class=\"data row18 col15\" >0</td>\n",
       "            </tr>\n",
       "            <tr>\n",
       "                        <th id=\"T_c33ae_level0_row19\" class=\"row_heading level0 row19\" >19</th>\n",
       "                        <td id=\"T_c33ae_row19_col0\" class=\"data row19 col0\" >20</td>\n",
       "                        <td id=\"T_c33ae_row19_col1\" class=\"data row19 col1\" >117</td>\n",
       "                        <td id=\"T_c33ae_row19_col2\" class=\"data row19 col2\" >165</td>\n",
       "                        <td id=\"T_c33ae_row19_col3\" class=\"data row19 col3\" >247</td>\n",
       "                        <td id=\"T_c33ae_row19_col4\" class=\"data row19 col4\" >254</td>\n",
       "                        <td id=\"T_c33ae_row19_col5\" class=\"data row19 col5\" >254</td>\n",
       "                        <td id=\"T_c33ae_row19_col6\" class=\"data row19 col6\" >228</td>\n",
       "                        <td id=\"T_c33ae_row19_col7\" class=\"data row19 col7\" >183</td>\n",
       "                        <td id=\"T_c33ae_row19_col8\" class=\"data row19 col8\" >83</td>\n",
       "                        <td id=\"T_c33ae_row19_col9\" class=\"data row19 col9\" >3</td>\n",
       "                        <td id=\"T_c33ae_row19_col10\" class=\"data row19 col10\" >0</td>\n",
       "                        <td id=\"T_c33ae_row19_col11\" class=\"data row19 col11\" >0</td>\n",
       "                        <td id=\"T_c33ae_row19_col12\" class=\"data row19 col12\" >0</td>\n",
       "                        <td id=\"T_c33ae_row19_col13\" class=\"data row19 col13\" >0</td>\n",
       "                        <td id=\"T_c33ae_row19_col14\" class=\"data row19 col14\" >0</td>\n",
       "                        <td id=\"T_c33ae_row19_col15\" class=\"data row19 col15\" >0</td>\n",
       "            </tr>\n",
       "    </tbody></table>"
      ],
      "text/plain": [
       "<pandas.io.formats.style.Styler at 0x7f1711e19550>"
      ]
     },
     "execution_count": 13,
     "metadata": {},
     "output_type": "execute_result"
    }
   ],
   "source": [
    "displaying_3_tensor = tensor(img)[0:25, 4:26]\n",
    "df = pd.DataFrame(displaying_3_tensor[5:25, 4:20])\n",
    "df.style.set_properties(**{'font-size': '6pt'}).background_gradient('Purples')"
   ]
  },
  {
   "cell_type": "markdown",
   "id": "italic-possibility",
   "metadata": {
    "papermill": {
     "duration": 0.038906,
     "end_time": "2021-07-01T19:25:23.090113",
     "exception": false,
     "start_time": "2021-07-01T19:25:23.051207",
     "status": "completed"
    },
    "tags": []
   },
   "source": [
    "## Semantic Similarity"
   ]
  },
  {
   "cell_type": "code",
   "execution_count": 14,
   "id": "special-priest",
   "metadata": {
    "execution": {
     "iopub.execute_input": "2021-07-01T19:25:23.174621Z",
     "iopub.status.busy": "2021-07-01T19:25:23.173974Z",
     "iopub.status.idle": "2021-07-01T19:25:26.057165Z",
     "shell.execute_reply": "2021-07-01T19:25:26.056594Z",
     "shell.execute_reply.started": "2021-07-01T18:53:59.152151Z"
    },
    "papermill": {
     "duration": 2.92749,
     "end_time": "2021-07-01T19:25:26.057346",
     "exception": false,
     "start_time": "2021-07-01T19:25:23.129856",
     "status": "completed"
    },
    "tags": []
   },
   "outputs": [],
   "source": [
    "seven_tensors = [tensor(Image.open(o)) for o in sevens]\n",
    "three_tensors = [tensor(Image.open(o)) for o in threes]"
   ]
  },
  {
   "cell_type": "code",
   "execution_count": 15,
   "id": "daily-knife",
   "metadata": {
    "execution": {
     "iopub.execute_input": "2021-07-01T19:25:26.143539Z",
     "iopub.status.busy": "2021-07-01T19:25:26.142808Z",
     "iopub.status.idle": "2021-07-01T19:25:26.146348Z",
     "shell.execute_reply": "2021-07-01T19:25:26.145841Z",
     "shell.execute_reply.started": "2021-07-01T18:53:35.915913Z"
    },
    "papermill": {
     "duration": 0.048595,
     "end_time": "2021-07-01T19:25:26.146495",
     "exception": false,
     "start_time": "2021-07-01T19:25:26.097900",
     "status": "completed"
    },
    "tags": []
   },
   "outputs": [
    {
     "data": {
      "text/plain": [
       "6265"
      ]
     },
     "execution_count": 15,
     "metadata": {},
     "output_type": "execute_result"
    }
   ],
   "source": [
    "len(seven_tensors)"
   ]
  },
  {
   "cell_type": "code",
   "execution_count": 16,
   "id": "spiritual-lease",
   "metadata": {
    "execution": {
     "iopub.execute_input": "2021-07-01T19:25:26.229193Z",
     "iopub.status.busy": "2021-07-01T19:25:26.228552Z",
     "iopub.status.idle": "2021-07-01T19:25:26.286152Z",
     "shell.execute_reply": "2021-07-01T19:25:26.285656Z",
     "shell.execute_reply.started": "2021-07-01T18:55:12.942138Z"
    },
    "papermill": {
     "duration": 0.099534,
     "end_time": "2021-07-01T19:25:26.286329",
     "exception": false,
     "start_time": "2021-07-01T19:25:26.186795",
     "status": "completed"
    },
    "tags": []
   },
   "outputs": [
    {
     "data": {
      "text/plain": [
       "<AxesSubplot:>"
      ]
     },
     "execution_count": 16,
     "metadata": {},
     "output_type": "execute_result"
    },
    {
     "data": {
      "image/png": "[encoded data removed]",
      "text/plain": [
       "<Figure size 72x72 with 1 Axes>"
      ]
     },
     "metadata": {
      "needs_background": "light"
     },
     "output_type": "display_data"
    }
   ],
   "source": [
    "show_image(three_tensors[-1])"
   ]
  },
  {
   "cell_type": "code",
   "execution_count": 17,
   "id": "banner-springer",
   "metadata": {
    "execution": {
     "iopub.execute_input": "2021-07-01T19:25:26.389799Z",
     "iopub.status.busy": "2021-07-01T19:25:26.389122Z",
     "iopub.status.idle": "2021-07-01T19:25:26.418808Z",
     "shell.execute_reply": "2021-07-01T19:25:26.419334Z",
     "shell.execute_reply.started": "2021-07-01T18:55:27.833692Z"
    },
    "papermill": {
     "duration": 0.092981,
     "end_time": "2021-07-01T19:25:26.419515",
     "exception": false,
     "start_time": "2021-07-01T19:25:26.326534",
     "status": "completed"
    },
    "tags": []
   },
   "outputs": [
    {
     "data": {
      "text/plain": [
       "<AxesSubplot:>"
      ]
     },
     "execution_count": 17,
     "metadata": {},
     "output_type": "execute_result"
    },
    {
     "data": {
      "image/png": "[encoded data removed]",
      "text/plain": [
       "<Figure size 72x72 with 1 Axes>"
      ]
     },
     "metadata": {
      "needs_background": "light"
     },
     "output_type": "display_data"
    }
   ],
   "source": [
    "show_image(seven_tensors[1])"
   ]
  },
  {
   "cell_type": "code",
   "execution_count": 18,
   "id": "played-visitor",
   "metadata": {
    "execution": {
     "iopub.execute_input": "2021-07-01T19:25:26.506001Z",
     "iopub.status.busy": "2021-07-01T19:25:26.505407Z",
     "iopub.status.idle": "2021-07-01T19:25:26.567061Z",
     "shell.execute_reply": "2021-07-01T19:25:26.566180Z",
     "shell.execute_reply.started": "2021-07-01T18:56:43.336635Z"
    },
    "papermill": {
     "duration": 0.106234,
     "end_time": "2021-07-01T19:25:26.567253",
     "exception": false,
     "start_time": "2021-07-01T19:25:26.461019",
     "status": "completed"
    },
    "tags": []
   },
   "outputs": [],
   "source": [
    "import torch\n",
    "\n",
    "stacked_sevens = torch.stack(seven_tensors).float()/255"
   ]
  },
  {
   "cell_type": "code",
   "execution_count": 19,
   "id": "hairy-instrumentation",
   "metadata": {
    "execution": {
     "iopub.execute_input": "2021-07-01T19:25:26.654980Z",
     "iopub.status.busy": "2021-07-01T19:25:26.654345Z",
     "iopub.status.idle": "2021-07-01T19:25:26.657445Z",
     "shell.execute_reply": "2021-07-01T19:25:26.657881Z",
     "shell.execute_reply.started": "2021-07-01T18:56:52.534282Z"
    },
    "papermill": {
     "duration": 0.049236,
     "end_time": "2021-07-01T19:25:26.658053",
     "exception": false,
     "start_time": "2021-07-01T19:25:26.608817",
     "status": "completed"
    },
    "tags": []
   },
   "outputs": [
    {
     "data": {
      "text/plain": [
       "torch.Size([6265, 28, 28])"
      ]
     },
     "execution_count": 19,
     "metadata": {},
     "output_type": "execute_result"
    }
   ],
   "source": [
    "stacked_sevens.shape"
   ]
  },
  {
   "cell_type": "code",
   "execution_count": 20,
   "id": "million-marijuana",
   "metadata": {
    "execution": {
     "iopub.execute_input": "2021-07-01T19:25:26.745506Z",
     "iopub.status.busy": "2021-07-01T19:25:26.744868Z",
     "iopub.status.idle": "2021-07-01T19:25:26.781072Z",
     "shell.execute_reply": "2021-07-01T19:25:26.781626Z",
     "shell.execute_reply.started": "2021-07-01T18:57:21.499132Z"
    },
    "papermill": {
     "duration": 0.082597,
     "end_time": "2021-07-01T19:25:26.781809",
     "exception": false,
     "start_time": "2021-07-01T19:25:26.699212",
     "status": "completed"
    },
    "tags": []
   },
   "outputs": [],
   "source": [
    "stacked_threes = torch.stack(three_tensors).float()/255"
   ]
  },
  {
   "cell_type": "code",
   "execution_count": 21,
   "id": "advised-north",
   "metadata": {
    "execution": {
     "iopub.execute_input": "2021-07-01T19:25:26.869425Z",
     "iopub.status.busy": "2021-07-01T19:25:26.868785Z",
     "iopub.status.idle": "2021-07-01T19:25:26.873226Z",
     "shell.execute_reply": "2021-07-01T19:25:26.873757Z",
     "shell.execute_reply.started": "2021-07-01T18:57:28.618254Z"
    },
    "papermill": {
     "duration": 0.048632,
     "end_time": "2021-07-01T19:25:26.873920",
     "exception": false,
     "start_time": "2021-07-01T19:25:26.825288",
     "status": "completed"
    },
    "tags": []
   },
   "outputs": [
    {
     "data": {
      "text/plain": [
       "torch.Size([6131, 28, 28])"
      ]
     },
     "execution_count": 21,
     "metadata": {},
     "output_type": "execute_result"
    }
   ],
   "source": [
    "stacked_threes.shape"
   ]
  },
  {
   "cell_type": "code",
   "execution_count": 22,
   "id": "horizontal-humanitarian",
   "metadata": {
    "execution": {
     "iopub.execute_input": "2021-07-01T19:25:26.960112Z",
     "iopub.status.busy": "2021-07-01T19:25:26.959434Z",
     "iopub.status.idle": "2021-07-01T19:25:26.964299Z",
     "shell.execute_reply": "2021-07-01T19:25:26.964821Z",
     "shell.execute_reply.started": "2021-07-01T18:57:45.722557Z"
    },
    "papermill": {
     "duration": 0.049517,
     "end_time": "2021-07-01T19:25:26.964991",
     "exception": false,
     "start_time": "2021-07-01T19:25:26.915474",
     "status": "completed"
    },
    "tags": []
   },
   "outputs": [
    {
     "data": {
      "text/plain": [
       "3"
      ]
     },
     "execution_count": 22,
     "metadata": {},
     "output_type": "execute_result"
    }
   ],
   "source": [
    "stacked_threes.ndim"
   ]
  },
  {
   "cell_type": "code",
   "execution_count": 23,
   "id": "angry-tsunami",
   "metadata": {
    "execution": {
     "iopub.execute_input": "2021-07-01T19:25:27.052525Z",
     "iopub.status.busy": "2021-07-01T19:25:27.051908Z",
     "iopub.status.idle": "2021-07-01T19:25:27.070744Z",
     "shell.execute_reply": "2021-07-01T19:25:27.071314Z",
     "shell.execute_reply.started": "2021-07-01T19:05:38.269106Z"
    },
    "papermill": {
     "duration": 0.063735,
     "end_time": "2021-07-01T19:25:27.071490",
     "exception": false,
     "start_time": "2021-07-01T19:25:27.007755",
     "status": "completed"
    },
    "tags": []
   },
   "outputs": [],
   "source": [
    "mean_3 = stacked_threes.mean(0)\n",
    "mean_7 = stacked_sevens.mean(0)"
   ]
  },
  {
   "cell_type": "code",
   "execution_count": 24,
   "id": "ceramic-pontiac",
   "metadata": {
    "execution": {
     "iopub.execute_input": "2021-07-01T19:25:27.157916Z",
     "iopub.status.busy": "2021-07-01T19:25:27.157319Z",
     "iopub.status.idle": "2021-07-01T19:25:27.206523Z",
     "shell.execute_reply": "2021-07-01T19:25:27.207092Z",
     "shell.execute_reply.started": "2021-07-01T18:58:58.310703Z"
    },
    "papermill": {
     "duration": 0.093975,
     "end_time": "2021-07-01T19:25:27.207284",
     "exception": false,
     "start_time": "2021-07-01T19:25:27.113309",
     "status": "completed"
    },
    "tags": []
   },
   "outputs": [
    {
     "data": {
      "text/plain": [
       "<AxesSubplot:>"
      ]
     },
     "execution_count": 24,
     "metadata": {},
     "output_type": "execute_result"
    },
    {
     "data": {
      "image/png": "[encoded data removed]",
      "text/plain": [
       "<Figure size 72x72 with 1 Axes>"
      ]
     },
     "metadata": {
      "needs_background": "light"
     },
     "output_type": "display_data"
    }
   ],
   "source": [
    "show_image(mean_3)"
   ]
  },
  {
   "cell_type": "code",
   "execution_count": 25,
   "id": "sudden-resort",
   "metadata": {
    "execution": {
     "iopub.execute_input": "2021-07-01T19:25:27.295776Z",
     "iopub.status.busy": "2021-07-01T19:25:27.295108Z",
     "iopub.status.idle": "2021-07-01T19:25:27.345831Z",
     "shell.execute_reply": "2021-07-01T19:25:27.345310Z",
     "shell.execute_reply.started": "2021-07-01T19:01:38.874276Z"
    },
    "papermill": {
     "duration": 0.096048,
     "end_time": "2021-07-01T19:25:27.345979",
     "exception": false,
     "start_time": "2021-07-01T19:25:27.249931",
     "status": "completed"
    },
    "tags": []
   },
   "outputs": [
    {
     "data": {
      "text/plain": [
       "<AxesSubplot:>"
      ]
     },
     "execution_count": 25,
     "metadata": {},
     "output_type": "execute_result"
    },
    {
     "data": {
      "image/png": "[encoded data removed]",
      "text/plain": [
       "<Figure size 72x72 with 1 Axes>"
      ]
     },
     "metadata": {
      "needs_background": "light"
     },
     "output_type": "display_data"
    }
   ],
   "source": [
    "show_image(stacked_threes[1])"
   ]
  },
  {
   "cell_type": "code",
   "execution_count": 26,
   "id": "northern-jacksonville",
   "metadata": {
    "execution": {
     "iopub.execute_input": "2021-07-01T19:25:27.438647Z",
     "iopub.status.busy": "2021-07-01T19:25:27.437994Z",
     "iopub.status.idle": "2021-07-01T19:25:27.448931Z",
     "shell.execute_reply": "2021-07-01T19:25:27.448428Z",
     "shell.execute_reply.started": "2021-07-01T19:02:36.760266Z"
    },
    "papermill": {
     "duration": 0.05939,
     "end_time": "2021-07-01T19:25:27.449072",
     "exception": false,
     "start_time": "2021-07-01T19:25:27.389682",
     "status": "completed"
    },
    "tags": []
   },
   "outputs": [],
   "source": [
    "dist_3_abs = (stacked_threes[1]-mean_3).abs().mean()"
   ]
  },
  {
   "cell_type": "code",
   "execution_count": 27,
   "id": "backed-school",
   "metadata": {
    "execution": {
     "iopub.execute_input": "2021-07-01T19:25:27.541800Z",
     "iopub.status.busy": "2021-07-01T19:25:27.541150Z",
     "iopub.status.idle": "2021-07-01T19:25:27.580146Z",
     "shell.execute_reply": "2021-07-01T19:25:27.579573Z",
     "shell.execute_reply.started": "2021-07-01T19:03:24.748066Z"
    },
    "papermill": {
     "duration": 0.087647,
     "end_time": "2021-07-01T19:25:27.580319",
     "exception": false,
     "start_time": "2021-07-01T19:25:27.492672",
     "status": "completed"
    },
    "tags": []
   },
   "outputs": [],
   "source": [
    "dist_3_sqr = ((stacked_threes[1]-mean_3)**2).mean().sqrt()"
   ]
  },
  {
   "cell_type": "code",
   "execution_count": 28,
   "id": "entertaining-grant",
   "metadata": {
    "execution": {
     "iopub.execute_input": "2021-07-01T19:25:27.673772Z",
     "iopub.status.busy": "2021-07-01T19:25:27.673095Z",
     "iopub.status.idle": "2021-07-01T19:25:27.695311Z",
     "shell.execute_reply": "2021-07-01T19:25:27.695791Z",
     "shell.execute_reply.started": "2021-07-01T19:03:29.272930Z"
    },
    "papermill": {
     "duration": 0.07192,
     "end_time": "2021-07-01T19:25:27.695956",
     "exception": false,
     "start_time": "2021-07-01T19:25:27.624036",
     "status": "completed"
    },
    "tags": []
   },
   "outputs": [
    {
     "data": {
      "text/plain": [
       "tensor(0.1120)"
      ]
     },
     "execution_count": 28,
     "metadata": {},
     "output_type": "execute_result"
    }
   ],
   "source": [
    "dist_3_abs"
   ]
  },
  {
   "cell_type": "code",
   "execution_count": 29,
   "id": "danish-forty",
   "metadata": {
    "execution": {
     "iopub.execute_input": "2021-07-01T19:25:27.788831Z",
     "iopub.status.busy": "2021-07-01T19:25:27.788224Z",
     "iopub.status.idle": "2021-07-01T19:25:27.793260Z",
     "shell.execute_reply": "2021-07-01T19:25:27.793856Z",
     "shell.execute_reply.started": "2021-07-01T19:03:33.224033Z"
    },
    "papermill": {
     "duration": 0.053612,
     "end_time": "2021-07-01T19:25:27.794038",
     "exception": false,
     "start_time": "2021-07-01T19:25:27.740426",
     "status": "completed"
    },
    "tags": []
   },
   "outputs": [
    {
     "data": {
      "text/plain": [
       "tensor(0.2031)"
      ]
     },
     "execution_count": 29,
     "metadata": {},
     "output_type": "execute_result"
    }
   ],
   "source": [
    "dist_3_sqr"
   ]
  },
  {
   "cell_type": "code",
   "execution_count": 30,
   "id": "revised-accommodation",
   "metadata": {
    "execution": {
     "iopub.execute_input": "2021-07-01T19:25:27.889164Z",
     "iopub.status.busy": "2021-07-01T19:25:27.888522Z",
     "iopub.status.idle": "2021-07-01T19:25:27.892876Z",
     "shell.execute_reply": "2021-07-01T19:25:27.893547Z",
     "shell.execute_reply.started": "2021-07-01T19:06:38.986360Z"
    },
    "papermill": {
     "duration": 0.054075,
     "end_time": "2021-07-01T19:25:27.893745",
     "exception": false,
     "start_time": "2021-07-01T19:25:27.839670",
     "status": "completed"
    },
    "tags": []
   },
   "outputs": [],
   "source": [
    "dist_7_abs = (stacked_threes[1]-mean_7).abs().mean()\n",
    "dist_7_sqr = ((stacked_threes[1]-mean_7)**2).mean().sqrt()"
   ]
  },
  {
   "cell_type": "code",
   "execution_count": 31,
   "id": "choice-adventure",
   "metadata": {
    "execution": {
     "iopub.execute_input": "2021-07-01T19:25:27.988942Z",
     "iopub.status.busy": "2021-07-01T19:25:27.988363Z",
     "iopub.status.idle": "2021-07-01T19:25:27.993705Z",
     "shell.execute_reply": "2021-07-01T19:25:27.994292Z",
     "shell.execute_reply.started": "2021-07-01T19:06:50.550227Z"
    },
    "papermill": {
     "duration": 0.053339,
     "end_time": "2021-07-01T19:25:27.994470",
     "exception": false,
     "start_time": "2021-07-01T19:25:27.941131",
     "status": "completed"
    },
    "tags": []
   },
   "outputs": [
    {
     "data": {
      "text/plain": [
       "(tensor(0.1390), tensor(0.2719))"
      ]
     },
     "execution_count": 31,
     "metadata": {},
     "output_type": "execute_result"
    }
   ],
   "source": [
    "dist_7_abs, dist_7_sqr"
   ]
  },
  {
   "cell_type": "code",
   "execution_count": 32,
   "id": "chronic-hydrogen",
   "metadata": {
    "execution": {
     "iopub.execute_input": "2021-07-01T19:25:28.090062Z",
     "iopub.status.busy": "2021-07-01T19:25:28.089432Z",
     "iopub.status.idle": "2021-07-01T19:25:28.576205Z",
     "shell.execute_reply": "2021-07-01T19:25:28.576832Z",
     "shell.execute_reply.started": "2021-07-01T19:13:20.564475Z"
    },
    "papermill": {
     "duration": 0.537004,
     "end_time": "2021-07-01T19:25:28.577045",
     "exception": false,
     "start_time": "2021-07-01T19:25:28.040041",
     "status": "completed"
    },
    "tags": []
   },
   "outputs": [],
   "source": [
    "##calculating metrics \n",
    "\n",
    "valid_3_tens = torch.stack([tensor(Image.open(o))\n",
    "                           for o in (data/'valid/3').ls()])\n",
    "valid_3_tens = valid_3_tens.float()/255\n",
    "valid_7_tens = torch.stack([tensor(Image.open(o))\n",
    "                           for o in (data/'valid/7').ls()])\n",
    "valid_7_tens = valid_7_tens.float()/255\n"
   ]
  },
  {
   "cell_type": "markdown",
   "id": "dedicated-laugh",
   "metadata": {
    "papermill": {
     "duration": 0.044322,
     "end_time": "2021-07-01T19:25:28.668629",
     "exception": false,
     "start_time": "2021-07-01T19:25:28.624307",
     "status": "completed"
    },
    "tags": []
   },
   "source": [
    "Since the valid3_tens has a shape of (1010, 28, 28) and the ideal3 will have a shape of (1, 28, 28) with broadcasting the ideal 3 will be broadcast over the 1st dimension. Now we want the average of the pixel values over the last two dimensions. The last two dimensions which are the height & width of image are indexed by using -1 index and -2 index. In python -1 refers to the last element and in this case the last dim of a tensor and -2 is the 2nd last dim of tensor and so refers to the 28x28 dims of our valid3_tens and valid_tens"
   ]
  },
  {
   "cell_type": "code",
   "execution_count": 33,
   "id": "controversial-bacon",
   "metadata": {
    "execution": {
     "iopub.execute_input": "2021-07-01T19:25:28.762728Z",
     "iopub.status.busy": "2021-07-01T19:25:28.761967Z",
     "iopub.status.idle": "2021-07-01T19:25:28.764996Z",
     "shell.execute_reply": "2021-07-01T19:25:28.764509Z",
     "shell.execute_reply.started": "2021-07-01T19:13:58.403926Z"
    },
    "papermill": {
     "duration": 0.05212,
     "end_time": "2021-07-01T19:25:28.765149",
     "exception": false,
     "start_time": "2021-07-01T19:25:28.713029",
     "status": "completed"
    },
    "tags": []
   },
   "outputs": [],
   "source": [
    "def mnist_distance(a, b):\n",
    "    return (a-b).abs().mean((-1, -2))"
   ]
  },
  {
   "cell_type": "code",
   "execution_count": 34,
   "id": "comparative-diamond",
   "metadata": {
    "execution": {
     "iopub.execute_input": "2021-07-01T19:25:28.858354Z",
     "iopub.status.busy": "2021-07-01T19:25:28.857296Z",
     "iopub.status.idle": "2021-07-01T19:25:28.881727Z",
     "shell.execute_reply": "2021-07-01T19:25:28.882206Z",
     "shell.execute_reply.started": "2021-07-01T19:21:02.448889Z"
    },
    "papermill": {
     "duration": 0.072403,
     "end_time": "2021-07-01T19:25:28.882409",
     "exception": false,
     "start_time": "2021-07-01T19:25:28.810006",
     "status": "completed"
    },
    "tags": []
   },
   "outputs": [],
   "source": [
    "t = mnist_distance(stacked_threes,mean_3)"
   ]
  },
  {
   "cell_type": "code",
   "execution_count": 35,
   "id": "running-theory",
   "metadata": {
    "execution": {
     "iopub.execute_input": "2021-07-01T19:25:28.996076Z",
     "iopub.status.busy": "2021-07-01T19:25:28.993523Z",
     "iopub.status.idle": "2021-07-01T19:25:29.000107Z",
     "shell.execute_reply": "2021-07-01T19:25:29.000815Z",
     "shell.execute_reply.started": "2021-07-01T19:21:13.299068Z"
    },
    "papermill": {
     "duration": 0.071797,
     "end_time": "2021-07-01T19:25:29.000993",
     "exception": false,
     "start_time": "2021-07-01T19:25:28.929196",
     "status": "completed"
    },
    "tags": []
   },
   "outputs": [
    {
     "data": {
      "text/plain": [
       "torch.Size([6131])"
      ]
     },
     "execution_count": 35,
     "metadata": {},
     "output_type": "execute_result"
    }
   ],
   "source": [
    "t.shape"
   ]
  },
  {
   "cell_type": "code",
   "execution_count": 36,
   "id": "formed-retailer",
   "metadata": {
    "execution": {
     "iopub.execute_input": "2021-07-01T19:25:29.105204Z",
     "iopub.status.busy": "2021-07-01T19:25:29.104598Z",
     "iopub.status.idle": "2021-07-01T19:25:29.109334Z",
     "shell.execute_reply": "2021-07-01T19:25:29.108817Z",
     "shell.execute_reply.started": "2021-07-01T19:22:06.724254Z"
    },
    "papermill": {
     "duration": 0.052853,
     "end_time": "2021-07-01T19:25:29.109480",
     "exception": false,
     "start_time": "2021-07-01T19:25:29.056627",
     "status": "completed"
    },
    "tags": []
   },
   "outputs": [],
   "source": [
    "def is_3(x):\n",
    "    return mnist_distance(x, mean_3) < mnist_distance(x, mean_7)"
   ]
  },
  {
   "cell_type": "code",
   "execution_count": 37,
   "id": "consolidated-kenya",
   "metadata": {
    "execution": {
     "iopub.execute_input": "2021-07-01T19:25:29.206041Z",
     "iopub.status.busy": "2021-07-01T19:25:29.205114Z",
     "iopub.status.idle": "2021-07-01T19:25:29.210798Z",
     "shell.execute_reply": "2021-07-01T19:25:29.210153Z",
     "shell.execute_reply.started": "2021-07-01T19:22:30.630296Z"
    },
    "papermill": {
     "duration": 0.056145,
     "end_time": "2021-07-01T19:25:29.210936",
     "exception": false,
     "start_time": "2021-07-01T19:25:29.154791",
     "status": "completed"
    },
    "tags": []
   },
   "outputs": [
    {
     "data": {
      "text/plain": [
       "tensor(True)"
      ]
     },
     "execution_count": 37,
     "metadata": {},
     "output_type": "execute_result"
    }
   ],
   "source": [
    "is_3(stacked_threes[0])"
   ]
  },
  {
   "cell_type": "code",
   "execution_count": 38,
   "id": "removed-ivory",
   "metadata": {
    "execution": {
     "iopub.execute_input": "2021-07-01T19:25:29.306545Z",
     "iopub.status.busy": "2021-07-01T19:25:29.305850Z",
     "iopub.status.idle": "2021-07-01T19:25:29.312260Z",
     "shell.execute_reply": "2021-07-01T19:25:29.311620Z",
     "shell.execute_reply.started": "2021-07-01T19:22:59.633435Z"
    },
    "papermill": {
     "duration": 0.055876,
     "end_time": "2021-07-01T19:25:29.312413",
     "exception": false,
     "start_time": "2021-07-01T19:25:29.256537",
     "status": "completed"
    },
    "tags": []
   },
   "outputs": [],
   "source": [
    "accuracy_of_3s = is_3(valid_3_tens).float().mean()"
   ]
  },
  {
   "cell_type": "code",
   "execution_count": 39,
   "id": "spatial-sponsorship",
   "metadata": {
    "execution": {
     "iopub.execute_input": "2021-07-01T19:25:29.407794Z",
     "iopub.status.busy": "2021-07-01T19:25:29.407129Z",
     "iopub.status.idle": "2021-07-01T19:25:29.412419Z",
     "shell.execute_reply": "2021-07-01T19:25:29.411914Z",
     "shell.execute_reply.started": "2021-07-01T19:23:09.040697Z"
    },
    "papermill": {
     "duration": 0.054481,
     "end_time": "2021-07-01T19:25:29.412564",
     "exception": false,
     "start_time": "2021-07-01T19:25:29.358083",
     "status": "completed"
    },
    "tags": []
   },
   "outputs": [
    {
     "data": {
      "text/plain": [
       "tensor(0.9168)"
      ]
     },
     "execution_count": 39,
     "metadata": {},
     "output_type": "execute_result"
    }
   ],
   "source": [
    "accuracy_of_3s"
   ]
  },
  {
   "cell_type": "code",
   "execution_count": 40,
   "id": "raised-colors",
   "metadata": {
    "execution": {
     "iopub.execute_input": "2021-07-01T19:25:29.509820Z",
     "iopub.status.busy": "2021-07-01T19:25:29.509086Z",
     "iopub.status.idle": "2021-07-01T19:25:29.520596Z",
     "shell.execute_reply": "2021-07-01T19:25:29.519992Z",
     "shell.execute_reply.started": "2021-07-01T19:24:25.730986Z"
    },
    "papermill": {
     "duration": 0.061975,
     "end_time": "2021-07-01T19:25:29.520738",
     "exception": false,
     "start_time": "2021-07-01T19:25:29.458763",
     "status": "completed"
    },
    "tags": []
   },
   "outputs": [
    {
     "data": {
      "text/plain": [
       "tensor(0.9854)"
      ]
     },
     "execution_count": 40,
     "metadata": {},
     "output_type": "execute_result"
    }
   ],
   "source": [
    "accuracy_7s = (1 - is_3(valid_7_tens).float()).mean()\n",
    "accuracy_7s"
   ]
  },
  {
   "cell_type": "code",
   "execution_count": 41,
   "id": "threatened-physics",
   "metadata": {
    "execution": {
     "iopub.execute_input": "2021-07-01T19:25:29.619627Z",
     "iopub.status.busy": "2021-07-01T19:25:29.618634Z",
     "iopub.status.idle": "2021-07-01T19:25:29.622307Z",
     "shell.execute_reply": "2021-07-01T19:25:29.622924Z",
     "shell.execute_reply.started": "2021-07-01T19:24:55.954501Z"
    },
    "papermill": {
     "duration": 0.056086,
     "end_time": "2021-07-01T19:25:29.623089",
     "exception": false,
     "start_time": "2021-07-01T19:25:29.567003",
     "status": "completed"
    },
    "tags": []
   },
   "outputs": [
    {
     "data": {
      "text/plain": [
       "tensor(0.9511)"
      ]
     },
     "execution_count": 41,
     "metadata": {},
     "output_type": "execute_result"
    }
   ],
   "source": [
    "(accuracy_7s+accuracy_of_3s)/2"
   ]
  },
  {
   "cell_type": "code",
   "execution_count": null,
   "id": "ethical-dialogue",
   "metadata": {
    "papermill": {
     "duration": 0.051522,
     "end_time": "2021-07-01T19:25:29.721087",
     "exception": false,
     "start_time": "2021-07-01T19:25:29.669565",
     "status": "completed"
    },
    "tags": []
   },
   "outputs": [],
   "source": []
  }
 ],
 "metadata": {
  "kernelspec": {
   "display_name": "Python 3",
   "language": "python",
   "name": "python3"
  },
  "language_info": {
   "codemirror_mode": {
    "name": "ipython",
    "version": 3
   },
   "file_extension": ".py",
   "mimetype": "text/x-python",
   "name": "python",
   "nbconvert_exporter": "python",
   "pygments_lexer": "ipython3",
   "version": "3.7.9"
  },
  "papermill": {
   "default_parameters": {},
   "duration": 23.157809,
   "end_time": "2021-07-01T19:25:30.577608",
   "environment_variables": {},
   "exception": null,
   "input_path": "__notebook__.ipynb",
   "output_path": "__notebook__.ipynb",
   "parameters": {},
   "start_time": "2021-07-01T19:25:07.419799",
   "version": "2.3.2"
  }
 },
 "nbformat": 4,
 "nbformat_minor": 5
}

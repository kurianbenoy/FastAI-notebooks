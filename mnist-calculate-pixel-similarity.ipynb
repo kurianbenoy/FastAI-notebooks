{
 "cells": [
  {
   "cell_type": "markdown",
   "id": "designing-yacht",
   "metadata": {
    "papermill": {
     "duration": 0.020703,
     "end_time": "2021-07-08T02:31:51.745717",
     "exception": false,
     "start_time": "2021-07-08T02:31:51.725014",
     "status": "completed"
    },
    "tags": []
   },
   "source": [
    "## MNIST Image classification"
   ]
  },
  {
   "cell_type": "code",
   "execution_count": 1,
   "id": "prerequisite-claim",
   "metadata": {
    "execution": {
     "iopub.execute_input": "2021-07-08T02:31:51.798309Z",
     "iopub.status.busy": "2021-07-08T02:31:51.797471Z",
     "iopub.status.idle": "2021-07-08T02:31:54.503545Z",
     "shell.execute_reply": "2021-07-08T02:31:54.504068Z",
     "shell.execute_reply.started": "2021-07-08T01:43:33.643996Z"
    },
    "papermill": {
     "duration": 2.739715,
     "end_time": "2021-07-08T02:31:54.504382",
     "exception": false,
     "start_time": "2021-07-08T02:31:51.764667",
     "status": "completed"
    },
    "tags": []
   },
   "outputs": [],
   "source": [
    "from fastai.vision.all import *\n",
    "from fastai import *"
   ]
  },
  {
   "cell_type": "code",
   "execution_count": 2,
   "id": "passing-barbados",
   "metadata": {
    "execution": {
     "iopub.execute_input": "2021-07-08T02:31:54.548582Z",
     "iopub.status.busy": "2021-07-08T02:31:54.547922Z",
     "iopub.status.idle": "2021-07-08T02:32:13.331802Z",
     "shell.execute_reply": "2021-07-08T02:32:13.331103Z",
     "shell.execute_reply.started": "2021-07-08T01:43:36.199168Z"
    },
    "papermill": {
     "duration": 18.808418,
     "end_time": "2021-07-08T02:32:13.331974",
     "exception": false,
     "start_time": "2021-07-08T02:31:54.523556",
     "status": "completed"
    },
    "tags": []
   },
   "outputs": [
    {
     "data": {
      "text/html": [],
      "text/plain": [
       "<IPython.core.display.HTML object>"
      ]
     },
     "metadata": {},
     "output_type": "display_data"
    }
   ],
   "source": [
    "path = untar_data(URLs.MNIST)"
   ]
  },
  {
   "cell_type": "code",
   "execution_count": 3,
   "id": "distinguished-divorce",
   "metadata": {
    "execution": {
     "iopub.execute_input": "2021-07-08T02:32:13.376478Z",
     "iopub.status.busy": "2021-07-08T02:32:13.375524Z",
     "iopub.status.idle": "2021-07-08T02:32:13.380160Z",
     "shell.execute_reply": "2021-07-08T02:32:13.380701Z",
     "shell.execute_reply.started": "2021-07-08T01:43:54.944804Z"
    },
    "papermill": {
     "duration": 0.028839,
     "end_time": "2021-07-08T02:32:13.380900",
     "exception": false,
     "start_time": "2021-07-08T02:32:13.352061",
     "status": "completed"
    },
    "tags": []
   },
   "outputs": [
    {
     "data": {
      "text/plain": [
       "(#10) [Path('/root/.fastai/data/mnist_png/training/5'),Path('/root/.fastai/data/mnist_png/training/6'),Path('/root/.fastai/data/mnist_png/training/4'),Path('/root/.fastai/data/mnist_png/training/1'),Path('/root/.fastai/data/mnist_png/training/9'),Path('/root/.fastai/data/mnist_png/training/7'),Path('/root/.fastai/data/mnist_png/training/3'),Path('/root/.fastai/data/mnist_png/training/2'),Path('/root/.fastai/data/mnist_png/training/8'),Path('/root/.fastai/data/mnist_png/training/0')]"
      ]
     },
     "execution_count": 3,
     "metadata": {},
     "output_type": "execute_result"
    }
   ],
   "source": [
    "(path/'training').ls()"
   ]
  },
  {
   "cell_type": "code",
   "execution_count": 4,
   "id": "binary-vegetable",
   "metadata": {
    "execution": {
     "iopub.execute_input": "2021-07-08T02:32:13.427979Z",
     "iopub.status.busy": "2021-07-08T02:32:13.427275Z",
     "iopub.status.idle": "2021-07-08T02:32:14.272485Z",
     "shell.execute_reply": "2021-07-08T02:32:14.271903Z",
     "shell.execute_reply.started": "2021-07-08T01:54:01.166821Z"
    },
    "papermill": {
     "duration": 0.872008,
     "end_time": "2021-07-08T02:32:14.272621",
     "exception": false,
     "start_time": "2021-07-08T02:32:13.400613",
     "status": "completed"
    },
    "tags": []
   },
   "outputs": [],
   "source": [
    "zeroes = (path/'training'/'2').ls().sorted()\n",
    "ones = (path/'training'/'1').ls().sorted()\n",
    "twos = (path/'training'/'2').ls().sorted()\n",
    "threes = (path/'training'/'3').ls().sorted()\n",
    "fours = (path/'training'/'4').ls().sorted()\n",
    "fives = (path/'training'/'5').ls().sorted()\n",
    "sixs = (path/'training'/'6').ls().sorted()\n",
    "sevens = (path/'training'/'7').ls().sorted()\n",
    "eights = (path/'training'/'8').ls().sorted()\n",
    "nines = (path/'training'/'9').ls().sorted()"
   ]
  },
  {
   "cell_type": "code",
   "execution_count": 5,
   "id": "noticed-tournament",
   "metadata": {
    "execution": {
     "iopub.execute_input": "2021-07-08T02:32:14.317624Z",
     "iopub.status.busy": "2021-07-08T02:32:14.316987Z",
     "iopub.status.idle": "2021-07-08T02:32:14.333443Z",
     "shell.execute_reply": "2021-07-08T02:32:14.332729Z",
     "shell.execute_reply.started": "2021-07-08T01:43:55.785786Z"
    },
    "papermill": {
     "duration": 0.040859,
     "end_time": "2021-07-08T02:32:14.333586",
     "exception": false,
     "start_time": "2021-07-08T02:32:14.292727",
     "status": "completed"
    },
    "tags": []
   },
   "outputs": [
    {
     "data": {
      "image/png": "[encoded data removed]",
      "text/plain": [
       "<PIL.PngImagePlugin.PngImageFile image mode=L size=28x28 at 0x7F4CB3EDDA90>"
      ]
     },
     "execution_count": 5,
     "metadata": {},
     "output_type": "execute_result"
    }
   ],
   "source": [
    "img = ones[1]\n",
    "img1 = Image.open(img)\n",
    "img1"
   ]
  },
  {
   "cell_type": "code",
   "execution_count": 6,
   "id": "independent-silly",
   "metadata": {
    "execution": {
     "iopub.execute_input": "2021-07-08T02:32:14.391695Z",
     "iopub.status.busy": "2021-07-08T02:32:14.385295Z",
     "iopub.status.idle": "2021-07-08T02:32:14.493947Z",
     "shell.execute_reply": "2021-07-08T02:32:14.494469Z",
     "shell.execute_reply.started": "2021-07-08T01:43:55.804285Z"
    },
    "papermill": {
     "duration": 0.140967,
     "end_time": "2021-07-08T02:32:14.494638",
     "exception": false,
     "start_time": "2021-07-08T02:32:14.353671",
     "status": "completed"
    },
    "tags": []
   },
   "outputs": [
    {
     "data": {
      "text/html": [
       "<style  type=\"text/css\" >\n",
       "#T_87ea2_row0_col0,#T_87ea2_row0_col1,#T_87ea2_row0_col2,#T_87ea2_row0_col3,#T_87ea2_row0_col4,#T_87ea2_row0_col5,#T_87ea2_row0_col6,#T_87ea2_row1_col0,#T_87ea2_row1_col1,#T_87ea2_row1_col2,#T_87ea2_row1_col3,#T_87ea2_row1_col4,#T_87ea2_row1_col5,#T_87ea2_row1_col6,#T_87ea2_row2_col0,#T_87ea2_row2_col1,#T_87ea2_row2_col2,#T_87ea2_row2_col3,#T_87ea2_row2_col4,#T_87ea2_row2_col5,#T_87ea2_row2_col6,#T_87ea2_row3_col0,#T_87ea2_row3_col1,#T_87ea2_row3_col2,#T_87ea2_row3_col3,#T_87ea2_row3_col4,#T_87ea2_row3_col5,#T_87ea2_row3_col6,#T_87ea2_row4_col0,#T_87ea2_row4_col1,#T_87ea2_row4_col2,#T_87ea2_row4_col3,#T_87ea2_row4_col4,#T_87ea2_row4_col5,#T_87ea2_row4_col10,#T_87ea2_row5_col0,#T_87ea2_row5_col1,#T_87ea2_row5_col2,#T_87ea2_row5_col3,#T_87ea2_row5_col4,#T_87ea2_row5_col5,#T_87ea2_row5_col10,#T_87ea2_row6_col0,#T_87ea2_row6_col1,#T_87ea2_row6_col2,#T_87ea2_row6_col3,#T_87ea2_row6_col4,#T_87ea2_row6_col5,#T_87ea2_row6_col10,#T_87ea2_row7_col0,#T_87ea2_row7_col1,#T_87ea2_row7_col2,#T_87ea2_row7_col3,#T_87ea2_row7_col4,#T_87ea2_row7_col5,#T_87ea2_row7_col9,#T_87ea2_row7_col10,#T_87ea2_row8_col0,#T_87ea2_row8_col1,#T_87ea2_row8_col2,#T_87ea2_row8_col3,#T_87ea2_row8_col4,#T_87ea2_row8_col9,#T_87ea2_row8_col10,#T_87ea2_row9_col0,#T_87ea2_row9_col1,#T_87ea2_row9_col2,#T_87ea2_row9_col3,#T_87ea2_row9_col4,#T_87ea2_row9_col9,#T_87ea2_row9_col10,#T_87ea2_row10_col0,#T_87ea2_row10_col1,#T_87ea2_row10_col2,#T_87ea2_row10_col3,#T_87ea2_row10_col8,#T_87ea2_row10_col9,#T_87ea2_row10_col10,#T_87ea2_row11_col0,#T_87ea2_row11_col1,#T_87ea2_row11_col2,#T_87ea2_row11_col8,#T_87ea2_row11_col9,#T_87ea2_row11_col10,#T_87ea2_row12_col0,#T_87ea2_row12_col1,#T_87ea2_row12_col2,#T_87ea2_row12_col7,#T_87ea2_row12_col8,#T_87ea2_row12_col9,#T_87ea2_row12_col10,#T_87ea2_row13_col0,#T_87ea2_row13_col1,#T_87ea2_row13_col2,#T_87ea2_row13_col7,#T_87ea2_row13_col8,#T_87ea2_row13_col9,#T_87ea2_row13_col10,#T_87ea2_row14_col0,#T_87ea2_row14_col1,#T_87ea2_row14_col7,#T_87ea2_row14_col8,#T_87ea2_row14_col9,#T_87ea2_row14_col10,#T_87ea2_row15_col0,#T_87ea2_row15_col1,#T_87ea2_row15_col6,#T_87ea2_row15_col7,#T_87ea2_row15_col8,#T_87ea2_row15_col9,#T_87ea2_row15_col10,#T_87ea2_row16_col0,#T_87ea2_row16_col6,#T_87ea2_row16_col7,#T_87ea2_row16_col8,#T_87ea2_row16_col9,#T_87ea2_row16_col10,#T_87ea2_row17_col0,#T_87ea2_row17_col5,#T_87ea2_row17_col6,#T_87ea2_row17_col7,#T_87ea2_row17_col8,#T_87ea2_row17_col9,#T_87ea2_row17_col10,#T_87ea2_row18_col4,#T_87ea2_row18_col5,#T_87ea2_row18_col6,#T_87ea2_row18_col7,#T_87ea2_row18_col8,#T_87ea2_row18_col9,#T_87ea2_row18_col10,#T_87ea2_row19_col4,#T_87ea2_row19_col5,#T_87ea2_row19_col6,#T_87ea2_row19_col7,#T_87ea2_row19_col8,#T_87ea2_row19_col9,#T_87ea2_row19_col10{\n",
       "            font-size:  6pt;\n",
       "            background-color:  #ffffff;\n",
       "            color:  #000000;\n",
       "        }#T_87ea2_row0_col7{\n",
       "            font-size:  6pt;\n",
       "            background-color:  #f9f9f9;\n",
       "            color:  #000000;\n",
       "        }#T_87ea2_row0_col8{\n",
       "            font-size:  6pt;\n",
       "            background-color:  #323232;\n",
       "            color:  #f1f1f1;\n",
       "        }#T_87ea2_row0_col9,#T_87ea2_row1_col10,#T_87ea2_row5_col7,#T_87ea2_row5_col8,#T_87ea2_row10_col5,#T_87ea2_row10_col6,#T_87ea2_row15_col3,#T_87ea2_row15_col4,#T_87ea2_row16_col2,#T_87ea2_row17_col2,#T_87ea2_row18_col0,#T_87ea2_row18_col1,#T_87ea2_row18_col2{\n",
       "            font-size:  6pt;\n",
       "            background-color:  #000000;\n",
       "            color:  #f1f1f1;\n",
       "        }#T_87ea2_row0_col10{\n",
       "            font-size:  6pt;\n",
       "            background-color:  #b4b4b4;\n",
       "            color:  #000000;\n",
       "        }#T_87ea2_row1_col7{\n",
       "            font-size:  6pt;\n",
       "            background-color:  #f4f4f4;\n",
       "            color:  #000000;\n",
       "        }#T_87ea2_row1_col8,#T_87ea2_row1_col9,#T_87ea2_row2_col8,#T_87ea2_row2_col9,#T_87ea2_row3_col8,#T_87ea2_row4_col8,#T_87ea2_row9_col6,#T_87ea2_row11_col5,#T_87ea2_row11_col6,#T_87ea2_row12_col4,#T_87ea2_row12_col5,#T_87ea2_row13_col4,#T_87ea2_row13_col5,#T_87ea2_row14_col4,#T_87ea2_row16_col3{\n",
       "            font-size:  6pt;\n",
       "            background-color:  #010101;\n",
       "            color:  #f1f1f1;\n",
       "        }#T_87ea2_row2_col7{\n",
       "            font-size:  6pt;\n",
       "            background-color:  #aeaeae;\n",
       "            color:  #000000;\n",
       "        }#T_87ea2_row2_col10{\n",
       "            font-size:  6pt;\n",
       "            background-color:  #c9c9c9;\n",
       "            color:  #000000;\n",
       "        }#T_87ea2_row3_col7{\n",
       "            font-size:  6pt;\n",
       "            background-color:  #1a1a1a;\n",
       "            color:  #f1f1f1;\n",
       "        }#T_87ea2_row3_col9{\n",
       "            font-size:  6pt;\n",
       "            background-color:  #4a4a4a;\n",
       "            color:  #f1f1f1;\n",
       "        }#T_87ea2_row3_col10,#T_87ea2_row16_col5{\n",
       "            font-size:  6pt;\n",
       "            background-color:  #f7f7f7;\n",
       "            color:  #000000;\n",
       "        }#T_87ea2_row4_col6{\n",
       "            font-size:  6pt;\n",
       "            background-color:  #e1e1e1;\n",
       "            color:  #000000;\n",
       "        }#T_87ea2_row4_col7,#T_87ea2_row6_col7,#T_87ea2_row7_col7,#T_87ea2_row8_col7{\n",
       "            font-size:  6pt;\n",
       "            background-color:  #020202;\n",
       "            color:  #f1f1f1;\n",
       "        }#T_87ea2_row4_col9,#T_87ea2_row12_col3{\n",
       "            font-size:  6pt;\n",
       "            background-color:  #cccccc;\n",
       "            color:  #000000;\n",
       "        }#T_87ea2_row5_col6,#T_87ea2_row6_col6{\n",
       "            font-size:  6pt;\n",
       "            background-color:  #a3a3a3;\n",
       "            color:  #000000;\n",
       "        }#T_87ea2_row5_col9,#T_87ea2_row10_col4{\n",
       "            font-size:  6pt;\n",
       "            background-color:  #d4d4d4;\n",
       "            color:  #000000;\n",
       "        }#T_87ea2_row6_col8{\n",
       "            font-size:  6pt;\n",
       "            background-color:  #232323;\n",
       "            color:  #f1f1f1;\n",
       "        }#T_87ea2_row6_col9{\n",
       "            font-size:  6pt;\n",
       "            background-color:  #f3f3f3;\n",
       "            color:  #000000;\n",
       "        }#T_87ea2_row7_col6{\n",
       "            font-size:  6pt;\n",
       "            background-color:  #444444;\n",
       "            color:  #f1f1f1;\n",
       "        }#T_87ea2_row7_col8{\n",
       "            font-size:  6pt;\n",
       "            background-color:  #626262;\n",
       "            color:  #f1f1f1;\n",
       "        }#T_87ea2_row8_col5{\n",
       "            font-size:  6pt;\n",
       "            background-color:  #eeeeee;\n",
       "            color:  #000000;\n",
       "        }#T_87ea2_row8_col6{\n",
       "            font-size:  6pt;\n",
       "            background-color:  #111111;\n",
       "            color:  #f1f1f1;\n",
       "        }#T_87ea2_row8_col8{\n",
       "            font-size:  6pt;\n",
       "            background-color:  #bfbfbf;\n",
       "            color:  #000000;\n",
       "        }#T_87ea2_row9_col5{\n",
       "            font-size:  6pt;\n",
       "            background-color:  #838383;\n",
       "            color:  #000000;\n",
       "        }#T_87ea2_row9_col7{\n",
       "            font-size:  6pt;\n",
       "            background-color:  #1b1b1b;\n",
       "            color:  #f1f1f1;\n",
       "        }#T_87ea2_row9_col8,#T_87ea2_row11_col3,#T_87ea2_row19_col3{\n",
       "            font-size:  6pt;\n",
       "            background-color:  #fbfbfb;\n",
       "            color:  #000000;\n",
       "        }#T_87ea2_row10_col7{\n",
       "            font-size:  6pt;\n",
       "            background-color:  #282828;\n",
       "            color:  #f1f1f1;\n",
       "        }#T_87ea2_row11_col4{\n",
       "            font-size:  6pt;\n",
       "            background-color:  #777777;\n",
       "            color:  #000000;\n",
       "        }#T_87ea2_row11_col7{\n",
       "            font-size:  6pt;\n",
       "            background-color:  #bebebe;\n",
       "            color:  #000000;\n",
       "        }#T_87ea2_row12_col6{\n",
       "            font-size:  6pt;\n",
       "            background-color:  #696969;\n",
       "            color:  #000000;\n",
       "        }#T_87ea2_row13_col3{\n",
       "            font-size:  6pt;\n",
       "            background-color:  #707070;\n",
       "            color:  #000000;\n",
       "        }#T_87ea2_row13_col6{\n",
       "            font-size:  6pt;\n",
       "            background-color:  #8a8a8a;\n",
       "            color:  #000000;\n",
       "        }#T_87ea2_row14_col2{\n",
       "            font-size:  6pt;\n",
       "            background-color:  #959595;\n",
       "            color:  #000000;\n",
       "        }#T_87ea2_row14_col3{\n",
       "            font-size:  6pt;\n",
       "            background-color:  #0a0a0a;\n",
       "            color:  #f1f1f1;\n",
       "        }#T_87ea2_row14_col5{\n",
       "            font-size:  6pt;\n",
       "            background-color:  #353535;\n",
       "            color:  #f1f1f1;\n",
       "        }#T_87ea2_row14_col6{\n",
       "            font-size:  6pt;\n",
       "            background-color:  #f5f5f5;\n",
       "            color:  #000000;\n",
       "        }#T_87ea2_row15_col2{\n",
       "            font-size:  6pt;\n",
       "            background-color:  #404040;\n",
       "            color:  #f1f1f1;\n",
       "        }#T_87ea2_row15_col5{\n",
       "            font-size:  6pt;\n",
       "            background-color:  #b9b9b9;\n",
       "            color:  #000000;\n",
       "        }#T_87ea2_row16_col1{\n",
       "            font-size:  6pt;\n",
       "            background-color:  #bababa;\n",
       "            color:  #000000;\n",
       "        }#T_87ea2_row16_col4{\n",
       "            font-size:  6pt;\n",
       "            background-color:  #545454;\n",
       "            color:  #f1f1f1;\n",
       "        }#T_87ea2_row17_col1{\n",
       "            font-size:  6pt;\n",
       "            background-color:  #151515;\n",
       "            color:  #f1f1f1;\n",
       "        }#T_87ea2_row17_col3{\n",
       "            font-size:  6pt;\n",
       "            background-color:  #292929;\n",
       "            color:  #f1f1f1;\n",
       "        }#T_87ea2_row17_col4{\n",
       "            font-size:  6pt;\n",
       "            background-color:  #f6f6f6;\n",
       "            color:  #000000;\n",
       "        }#T_87ea2_row18_col3{\n",
       "            font-size:  6pt;\n",
       "            background-color:  #a8a8a8;\n",
       "            color:  #000000;\n",
       "        }#T_87ea2_row19_col0{\n",
       "            font-size:  6pt;\n",
       "            background-color:  #f1f1f1;\n",
       "            color:  #000000;\n",
       "        }#T_87ea2_row19_col1{\n",
       "            font-size:  6pt;\n",
       "            background-color:  #131313;\n",
       "            color:  #f1f1f1;\n",
       "        }#T_87ea2_row19_col2{\n",
       "            font-size:  6pt;\n",
       "            background-color:  #5c5c5c;\n",
       "            color:  #f1f1f1;\n",
       "        }</style><table id=\"T_87ea2_\" ><thead>    <tr>        <th class=\"blank level0\" ></th>        <th class=\"col_heading level0 col0\" >0</th>        <th class=\"col_heading level0 col1\" >1</th>        <th class=\"col_heading level0 col2\" >2</th>        <th class=\"col_heading level0 col3\" >3</th>        <th class=\"col_heading level0 col4\" >4</th>        <th class=\"col_heading level0 col5\" >5</th>        <th class=\"col_heading level0 col6\" >6</th>        <th class=\"col_heading level0 col7\" >7</th>        <th class=\"col_heading level0 col8\" >8</th>        <th class=\"col_heading level0 col9\" >9</th>        <th class=\"col_heading level0 col10\" >10</th>    </tr></thead><tbody>\n",
       "                <tr>\n",
       "                        <th id=\"T_87ea2_level0_row0\" class=\"row_heading level0 row0\" >0</th>\n",
       "                        <td id=\"T_87ea2_row0_col0\" class=\"data row0 col0\" >0</td>\n",
       "                        <td id=\"T_87ea2_row0_col1\" class=\"data row0 col1\" >0</td>\n",
       "                        <td id=\"T_87ea2_row0_col2\" class=\"data row0 col2\" >0</td>\n",
       "                        <td id=\"T_87ea2_row0_col3\" class=\"data row0 col3\" >0</td>\n",
       "                        <td id=\"T_87ea2_row0_col4\" class=\"data row0 col4\" >0</td>\n",
       "                        <td id=\"T_87ea2_row0_col5\" class=\"data row0 col5\" >0</td>\n",
       "                        <td id=\"T_87ea2_row0_col6\" class=\"data row0 col6\" >0</td>\n",
       "                        <td id=\"T_87ea2_row0_col7\" class=\"data row0 col7\" >13</td>\n",
       "                        <td id=\"T_87ea2_row0_col8\" class=\"data row0 col8\" >212</td>\n",
       "                        <td id=\"T_87ea2_row0_col9\" class=\"data row0 col9\" >253</td>\n",
       "                        <td id=\"T_87ea2_row0_col10\" class=\"data row0 col10\" >56</td>\n",
       "            </tr>\n",
       "            <tr>\n",
       "                        <th id=\"T_87ea2_level0_row1\" class=\"row_heading level0 row1\" >1</th>\n",
       "                        <td id=\"T_87ea2_row1_col0\" class=\"data row1 col0\" >0</td>\n",
       "                        <td id=\"T_87ea2_row1_col1\" class=\"data row1 col1\" >0</td>\n",
       "                        <td id=\"T_87ea2_row1_col2\" class=\"data row1 col2\" >0</td>\n",
       "                        <td id=\"T_87ea2_row1_col3\" class=\"data row1 col3\" >0</td>\n",
       "                        <td id=\"T_87ea2_row1_col4\" class=\"data row1 col4\" >0</td>\n",
       "                        <td id=\"T_87ea2_row1_col5\" class=\"data row1 col5\" >0</td>\n",
       "                        <td id=\"T_87ea2_row1_col6\" class=\"data row1 col6\" >0</td>\n",
       "                        <td id=\"T_87ea2_row1_col7\" class=\"data row1 col7\" >24</td>\n",
       "                        <td id=\"T_87ea2_row1_col8\" class=\"data row1 col8\" >252</td>\n",
       "                        <td id=\"T_87ea2_row1_col9\" class=\"data row1 col9\" >252</td>\n",
       "                        <td id=\"T_87ea2_row1_col10\" class=\"data row1 col10\" >139</td>\n",
       "            </tr>\n",
       "            <tr>\n",
       "                        <th id=\"T_87ea2_level0_row2\" class=\"row_heading level0 row2\" >2</th>\n",
       "                        <td id=\"T_87ea2_row2_col0\" class=\"data row2 col0\" >0</td>\n",
       "                        <td id=\"T_87ea2_row2_col1\" class=\"data row2 col1\" >0</td>\n",
       "                        <td id=\"T_87ea2_row2_col2\" class=\"data row2 col2\" >0</td>\n",
       "                        <td id=\"T_87ea2_row2_col3\" class=\"data row2 col3\" >0</td>\n",
       "                        <td id=\"T_87ea2_row2_col4\" class=\"data row2 col4\" >0</td>\n",
       "                        <td id=\"T_87ea2_row2_col5\" class=\"data row2 col5\" >0</td>\n",
       "                        <td id=\"T_87ea2_row2_col6\" class=\"data row2 col6\" >0</td>\n",
       "                        <td id=\"T_87ea2_row2_col7\" class=\"data row2 col7\" >108</td>\n",
       "                        <td id=\"T_87ea2_row2_col8\" class=\"data row2 col8\" >252</td>\n",
       "                        <td id=\"T_87ea2_row2_col9\" class=\"data row2 col9\" >252</td>\n",
       "                        <td id=\"T_87ea2_row2_col10\" class=\"data row2 col10\" >45</td>\n",
       "            </tr>\n",
       "            <tr>\n",
       "                        <th id=\"T_87ea2_level0_row3\" class=\"row_heading level0 row3\" >3</th>\n",
       "                        <td id=\"T_87ea2_row3_col0\" class=\"data row3 col0\" >0</td>\n",
       "                        <td id=\"T_87ea2_row3_col1\" class=\"data row3 col1\" >0</td>\n",
       "                        <td id=\"T_87ea2_row3_col2\" class=\"data row3 col2\" >0</td>\n",
       "                        <td id=\"T_87ea2_row3_col3\" class=\"data row3 col3\" >0</td>\n",
       "                        <td id=\"T_87ea2_row3_col4\" class=\"data row3 col4\" >0</td>\n",
       "                        <td id=\"T_87ea2_row3_col5\" class=\"data row3 col5\" >0</td>\n",
       "                        <td id=\"T_87ea2_row3_col6\" class=\"data row3 col6\" >0</td>\n",
       "                        <td id=\"T_87ea2_row3_col7\" class=\"data row3 col7\" >233</td>\n",
       "                        <td id=\"T_87ea2_row3_col8\" class=\"data row3 col8\" >252</td>\n",
       "                        <td id=\"T_87ea2_row3_col9\" class=\"data row3 col9\" >195</td>\n",
       "                        <td id=\"T_87ea2_row3_col10\" class=\"data row3 col10\" >9</td>\n",
       "            </tr>\n",
       "            <tr>\n",
       "                        <th id=\"T_87ea2_level0_row4\" class=\"row_heading level0 row4\" >4</th>\n",
       "                        <td id=\"T_87ea2_row4_col0\" class=\"data row4 col0\" >0</td>\n",
       "                        <td id=\"T_87ea2_row4_col1\" class=\"data row4 col1\" >0</td>\n",
       "                        <td id=\"T_87ea2_row4_col2\" class=\"data row4 col2\" >0</td>\n",
       "                        <td id=\"T_87ea2_row4_col3\" class=\"data row4 col3\" >0</td>\n",
       "                        <td id=\"T_87ea2_row4_col4\" class=\"data row4 col4\" >0</td>\n",
       "                        <td id=\"T_87ea2_row4_col5\" class=\"data row4 col5\" >0</td>\n",
       "                        <td id=\"T_87ea2_row4_col6\" class=\"data row4 col6\" >53</td>\n",
       "                        <td id=\"T_87ea2_row4_col7\" class=\"data row4 col7\" >253</td>\n",
       "                        <td id=\"T_87ea2_row4_col8\" class=\"data row4 col8\" >252</td>\n",
       "                        <td id=\"T_87ea2_row4_col9\" class=\"data row4 col9\" >79</td>\n",
       "                        <td id=\"T_87ea2_row4_col10\" class=\"data row4 col10\" >0</td>\n",
       "            </tr>\n",
       "            <tr>\n",
       "                        <th id=\"T_87ea2_level0_row5\" class=\"row_heading level0 row5\" >5</th>\n",
       "                        <td id=\"T_87ea2_row5_col0\" class=\"data row5 col0\" >0</td>\n",
       "                        <td id=\"T_87ea2_row5_col1\" class=\"data row5 col1\" >0</td>\n",
       "                        <td id=\"T_87ea2_row5_col2\" class=\"data row5 col2\" >0</td>\n",
       "                        <td id=\"T_87ea2_row5_col3\" class=\"data row5 col3\" >0</td>\n",
       "                        <td id=\"T_87ea2_row5_col4\" class=\"data row5 col4\" >0</td>\n",
       "                        <td id=\"T_87ea2_row5_col5\" class=\"data row5 col5\" >0</td>\n",
       "                        <td id=\"T_87ea2_row5_col6\" class=\"data row5 col6\" >116</td>\n",
       "                        <td id=\"T_87ea2_row5_col7\" class=\"data row5 col7\" >255</td>\n",
       "                        <td id=\"T_87ea2_row5_col8\" class=\"data row5 col8\" >253</td>\n",
       "                        <td id=\"T_87ea2_row5_col9\" class=\"data row5 col9\" >69</td>\n",
       "                        <td id=\"T_87ea2_row5_col10\" class=\"data row5 col10\" >0</td>\n",
       "            </tr>\n",
       "            <tr>\n",
       "                        <th id=\"T_87ea2_level0_row6\" class=\"row_heading level0 row6\" >6</th>\n",
       "                        <td id=\"T_87ea2_row6_col0\" class=\"data row6 col0\" >0</td>\n",
       "                        <td id=\"T_87ea2_row6_col1\" class=\"data row6 col1\" >0</td>\n",
       "                        <td id=\"T_87ea2_row6_col2\" class=\"data row6 col2\" >0</td>\n",
       "                        <td id=\"T_87ea2_row6_col3\" class=\"data row6 col3\" >0</td>\n",
       "                        <td id=\"T_87ea2_row6_col4\" class=\"data row6 col4\" >0</td>\n",
       "                        <td id=\"T_87ea2_row6_col5\" class=\"data row6 col5\" >0</td>\n",
       "                        <td id=\"T_87ea2_row6_col6\" class=\"data row6 col6\" >116</td>\n",
       "                        <td id=\"T_87ea2_row6_col7\" class=\"data row6 col7\" >253</td>\n",
       "                        <td id=\"T_87ea2_row6_col8\" class=\"data row6 col8\" >223</td>\n",
       "                        <td id=\"T_87ea2_row6_col9\" class=\"data row6 col9\" >25</td>\n",
       "                        <td id=\"T_87ea2_row6_col10\" class=\"data row6 col10\" >0</td>\n",
       "            </tr>\n",
       "            <tr>\n",
       "                        <th id=\"T_87ea2_level0_row7\" class=\"row_heading level0 row7\" >7</th>\n",
       "                        <td id=\"T_87ea2_row7_col0\" class=\"data row7 col0\" >0</td>\n",
       "                        <td id=\"T_87ea2_row7_col1\" class=\"data row7 col1\" >0</td>\n",
       "                        <td id=\"T_87ea2_row7_col2\" class=\"data row7 col2\" >0</td>\n",
       "                        <td id=\"T_87ea2_row7_col3\" class=\"data row7 col3\" >0</td>\n",
       "                        <td id=\"T_87ea2_row7_col4\" class=\"data row7 col4\" >0</td>\n",
       "                        <td id=\"T_87ea2_row7_col5\" class=\"data row7 col5\" >0</td>\n",
       "                        <td id=\"T_87ea2_row7_col6\" class=\"data row7 col6\" >199</td>\n",
       "                        <td id=\"T_87ea2_row7_col7\" class=\"data row7 col7\" >253</td>\n",
       "                        <td id=\"T_87ea2_row7_col8\" class=\"data row7 col8\" >174</td>\n",
       "                        <td id=\"T_87ea2_row7_col9\" class=\"data row7 col9\" >0</td>\n",
       "                        <td id=\"T_87ea2_row7_col10\" class=\"data row7 col10\" >0</td>\n",
       "            </tr>\n",
       "            <tr>\n",
       "                        <th id=\"T_87ea2_level0_row8\" class=\"row_heading level0 row8\" >8</th>\n",
       "                        <td id=\"T_87ea2_row8_col0\" class=\"data row8 col0\" >0</td>\n",
       "                        <td id=\"T_87ea2_row8_col1\" class=\"data row8 col1\" >0</td>\n",
       "                        <td id=\"T_87ea2_row8_col2\" class=\"data row8 col2\" >0</td>\n",
       "                        <td id=\"T_87ea2_row8_col3\" class=\"data row8 col3\" >0</td>\n",
       "                        <td id=\"T_87ea2_row8_col4\" class=\"data row8 col4\" >0</td>\n",
       "                        <td id=\"T_87ea2_row8_col5\" class=\"data row8 col5\" >34</td>\n",
       "                        <td id=\"T_87ea2_row8_col6\" class=\"data row8 col6\" >238</td>\n",
       "                        <td id=\"T_87ea2_row8_col7\" class=\"data row8 col7\" >253</td>\n",
       "                        <td id=\"T_87ea2_row8_col8\" class=\"data row8 col8\" >92</td>\n",
       "                        <td id=\"T_87ea2_row8_col9\" class=\"data row8 col9\" >0</td>\n",
       "                        <td id=\"T_87ea2_row8_col10\" class=\"data row8 col10\" >0</td>\n",
       "            </tr>\n",
       "            <tr>\n",
       "                        <th id=\"T_87ea2_level0_row9\" class=\"row_heading level0 row9\" >9</th>\n",
       "                        <td id=\"T_87ea2_row9_col0\" class=\"data row9 col0\" >0</td>\n",
       "                        <td id=\"T_87ea2_row9_col1\" class=\"data row9 col1\" >0</td>\n",
       "                        <td id=\"T_87ea2_row9_col2\" class=\"data row9 col2\" >0</td>\n",
       "                        <td id=\"T_87ea2_row9_col3\" class=\"data row9 col3\" >0</td>\n",
       "                        <td id=\"T_87ea2_row9_col4\" class=\"data row9 col4\" >0</td>\n",
       "                        <td id=\"T_87ea2_row9_col5\" class=\"data row9 col5\" >144</td>\n",
       "                        <td id=\"T_87ea2_row9_col6\" class=\"data row9 col6\" >252</td>\n",
       "                        <td id=\"T_87ea2_row9_col7\" class=\"data row9 col7\" >232</td>\n",
       "                        <td id=\"T_87ea2_row9_col8\" class=\"data row9 col8\" >8</td>\n",
       "                        <td id=\"T_87ea2_row9_col9\" class=\"data row9 col9\" >0</td>\n",
       "                        <td id=\"T_87ea2_row9_col10\" class=\"data row9 col10\" >0</td>\n",
       "            </tr>\n",
       "            <tr>\n",
       "                        <th id=\"T_87ea2_level0_row10\" class=\"row_heading level0 row10\" >10</th>\n",
       "                        <td id=\"T_87ea2_row10_col0\" class=\"data row10 col0\" >0</td>\n",
       "                        <td id=\"T_87ea2_row10_col1\" class=\"data row10 col1\" >0</td>\n",
       "                        <td id=\"T_87ea2_row10_col2\" class=\"data row10 col2\" >0</td>\n",
       "                        <td id=\"T_87ea2_row10_col3\" class=\"data row10 col3\" >0</td>\n",
       "                        <td id=\"T_87ea2_row10_col4\" class=\"data row10 col4\" >70</td>\n",
       "                        <td id=\"T_87ea2_row10_col5\" class=\"data row10 col5\" >253</td>\n",
       "                        <td id=\"T_87ea2_row10_col6\" class=\"data row10 col6\" >253</td>\n",
       "                        <td id=\"T_87ea2_row10_col7\" class=\"data row10 col7\" >221</td>\n",
       "                        <td id=\"T_87ea2_row10_col8\" class=\"data row10 col8\" >0</td>\n",
       "                        <td id=\"T_87ea2_row10_col9\" class=\"data row10 col9\" >0</td>\n",
       "                        <td id=\"T_87ea2_row10_col10\" class=\"data row10 col10\" >0</td>\n",
       "            </tr>\n",
       "            <tr>\n",
       "                        <th id=\"T_87ea2_level0_row11\" class=\"row_heading level0 row11\" >11</th>\n",
       "                        <td id=\"T_87ea2_row11_col0\" class=\"data row11 col0\" >0</td>\n",
       "                        <td id=\"T_87ea2_row11_col1\" class=\"data row11 col1\" >0</td>\n",
       "                        <td id=\"T_87ea2_row11_col2\" class=\"data row11 col2\" >0</td>\n",
       "                        <td id=\"T_87ea2_row11_col3\" class=\"data row11 col3\" >9</td>\n",
       "                        <td id=\"T_87ea2_row11_col4\" class=\"data row11 col4\" >155</td>\n",
       "                        <td id=\"T_87ea2_row11_col5\" class=\"data row11 col5\" >252</td>\n",
       "                        <td id=\"T_87ea2_row11_col6\" class=\"data row11 col6\" >252</td>\n",
       "                        <td id=\"T_87ea2_row11_col7\" class=\"data row11 col7\" >95</td>\n",
       "                        <td id=\"T_87ea2_row11_col8\" class=\"data row11 col8\" >0</td>\n",
       "                        <td id=\"T_87ea2_row11_col9\" class=\"data row11 col9\" >0</td>\n",
       "                        <td id=\"T_87ea2_row11_col10\" class=\"data row11 col10\" >0</td>\n",
       "            </tr>\n",
       "            <tr>\n",
       "                        <th id=\"T_87ea2_level0_row12\" class=\"row_heading level0 row12\" >12</th>\n",
       "                        <td id=\"T_87ea2_row12_col0\" class=\"data row12 col0\" >0</td>\n",
       "                        <td id=\"T_87ea2_row12_col1\" class=\"data row12 col1\" >0</td>\n",
       "                        <td id=\"T_87ea2_row12_col2\" class=\"data row12 col2\" >0</td>\n",
       "                        <td id=\"T_87ea2_row12_col3\" class=\"data row12 col3\" >78</td>\n",
       "                        <td id=\"T_87ea2_row12_col4\" class=\"data row12 col4\" >252</td>\n",
       "                        <td id=\"T_87ea2_row12_col5\" class=\"data row12 col5\" >252</td>\n",
       "                        <td id=\"T_87ea2_row12_col6\" class=\"data row12 col6\" >168</td>\n",
       "                        <td id=\"T_87ea2_row12_col7\" class=\"data row12 col7\" >0</td>\n",
       "                        <td id=\"T_87ea2_row12_col8\" class=\"data row12 col8\" >0</td>\n",
       "                        <td id=\"T_87ea2_row12_col9\" class=\"data row12 col9\" >0</td>\n",
       "                        <td id=\"T_87ea2_row12_col10\" class=\"data row12 col10\" >0</td>\n",
       "            </tr>\n",
       "            <tr>\n",
       "                        <th id=\"T_87ea2_level0_row13\" class=\"row_heading level0 row13\" >13</th>\n",
       "                        <td id=\"T_87ea2_row13_col0\" class=\"data row13 col0\" >0</td>\n",
       "                        <td id=\"T_87ea2_row13_col1\" class=\"data row13 col1\" >0</td>\n",
       "                        <td id=\"T_87ea2_row13_col2\" class=\"data row13 col2\" >0</td>\n",
       "                        <td id=\"T_87ea2_row13_col3\" class=\"data row13 col3\" >161</td>\n",
       "                        <td id=\"T_87ea2_row13_col4\" class=\"data row13 col4\" >252</td>\n",
       "                        <td id=\"T_87ea2_row13_col5\" class=\"data row13 col5\" >252</td>\n",
       "                        <td id=\"T_87ea2_row13_col6\" class=\"data row13 col6\" >137</td>\n",
       "                        <td id=\"T_87ea2_row13_col7\" class=\"data row13 col7\" >0</td>\n",
       "                        <td id=\"T_87ea2_row13_col8\" class=\"data row13 col8\" >0</td>\n",
       "                        <td id=\"T_87ea2_row13_col9\" class=\"data row13 col9\" >0</td>\n",
       "                        <td id=\"T_87ea2_row13_col10\" class=\"data row13 col10\" >0</td>\n",
       "            </tr>\n",
       "            <tr>\n",
       "                        <th id=\"T_87ea2_level0_row14\" class=\"row_heading level0 row14\" >14</th>\n",
       "                        <td id=\"T_87ea2_row14_col0\" class=\"data row14 col0\" >0</td>\n",
       "                        <td id=\"T_87ea2_row14_col1\" class=\"data row14 col1\" >0</td>\n",
       "                        <td id=\"T_87ea2_row14_col2\" class=\"data row14 col2\" >127</td>\n",
       "                        <td id=\"T_87ea2_row14_col3\" class=\"data row14 col3\" >244</td>\n",
       "                        <td id=\"T_87ea2_row14_col4\" class=\"data row14 col4\" >252</td>\n",
       "                        <td id=\"T_87ea2_row14_col5\" class=\"data row14 col5\" >210</td>\n",
       "                        <td id=\"T_87ea2_row14_col6\" class=\"data row14 col6\" >22</td>\n",
       "                        <td id=\"T_87ea2_row14_col7\" class=\"data row14 col7\" >0</td>\n",
       "                        <td id=\"T_87ea2_row14_col8\" class=\"data row14 col8\" >0</td>\n",
       "                        <td id=\"T_87ea2_row14_col9\" class=\"data row14 col9\" >0</td>\n",
       "                        <td id=\"T_87ea2_row14_col10\" class=\"data row14 col10\" >0</td>\n",
       "            </tr>\n",
       "            <tr>\n",
       "                        <th id=\"T_87ea2_level0_row15\" class=\"row_heading level0 row15\" >15</th>\n",
       "                        <td id=\"T_87ea2_row15_col0\" class=\"data row15 col0\" >0</td>\n",
       "                        <td id=\"T_87ea2_row15_col1\" class=\"data row15 col1\" >0</td>\n",
       "                        <td id=\"T_87ea2_row15_col2\" class=\"data row15 col2\" >202</td>\n",
       "                        <td id=\"T_87ea2_row15_col3\" class=\"data row15 col3\" >253</td>\n",
       "                        <td id=\"T_87ea2_row15_col4\" class=\"data row15 col4\" >253</td>\n",
       "                        <td id=\"T_87ea2_row15_col5\" class=\"data row15 col5\" >98</td>\n",
       "                        <td id=\"T_87ea2_row15_col6\" class=\"data row15 col6\" >0</td>\n",
       "                        <td id=\"T_87ea2_row15_col7\" class=\"data row15 col7\" >0</td>\n",
       "                        <td id=\"T_87ea2_row15_col8\" class=\"data row15 col8\" >0</td>\n",
       "                        <td id=\"T_87ea2_row15_col9\" class=\"data row15 col9\" >0</td>\n",
       "                        <td id=\"T_87ea2_row15_col10\" class=\"data row15 col10\" >0</td>\n",
       "            </tr>\n",
       "            <tr>\n",
       "                        <th id=\"T_87ea2_level0_row16\" class=\"row_heading level0 row16\" >16</th>\n",
       "                        <td id=\"T_87ea2_row16_col0\" class=\"data row16 col0\" >0</td>\n",
       "                        <td id=\"T_87ea2_row16_col1\" class=\"data row16 col1\" >95</td>\n",
       "                        <td id=\"T_87ea2_row16_col2\" class=\"data row16 col2\" >253</td>\n",
       "                        <td id=\"T_87ea2_row16_col3\" class=\"data row16 col3\" >252</td>\n",
       "                        <td id=\"T_87ea2_row16_col4\" class=\"data row16 col4\" >187</td>\n",
       "                        <td id=\"T_87ea2_row16_col5\" class=\"data row16 col5\" >17</td>\n",
       "                        <td id=\"T_87ea2_row16_col6\" class=\"data row16 col6\" >0</td>\n",
       "                        <td id=\"T_87ea2_row16_col7\" class=\"data row16 col7\" >0</td>\n",
       "                        <td id=\"T_87ea2_row16_col8\" class=\"data row16 col8\" >0</td>\n",
       "                        <td id=\"T_87ea2_row16_col9\" class=\"data row16 col9\" >0</td>\n",
       "                        <td id=\"T_87ea2_row16_col10\" class=\"data row16 col10\" >0</td>\n",
       "            </tr>\n",
       "            <tr>\n",
       "                        <th id=\"T_87ea2_level0_row17\" class=\"row_heading level0 row17\" >17</th>\n",
       "                        <td id=\"T_87ea2_row17_col0\" class=\"data row17 col0\" >0</td>\n",
       "                        <td id=\"T_87ea2_row17_col1\" class=\"data row17 col1\" >230</td>\n",
       "                        <td id=\"T_87ea2_row17_col2\" class=\"data row17 col2\" >253</td>\n",
       "                        <td id=\"T_87ea2_row17_col3\" class=\"data row17 col3\" >218</td>\n",
       "                        <td id=\"T_87ea2_row17_col4\" class=\"data row17 col4\" >19</td>\n",
       "                        <td id=\"T_87ea2_row17_col5\" class=\"data row17 col5\" >0</td>\n",
       "                        <td id=\"T_87ea2_row17_col6\" class=\"data row17 col6\" >0</td>\n",
       "                        <td id=\"T_87ea2_row17_col7\" class=\"data row17 col7\" >0</td>\n",
       "                        <td id=\"T_87ea2_row17_col8\" class=\"data row17 col8\" >0</td>\n",
       "                        <td id=\"T_87ea2_row17_col9\" class=\"data row17 col9\" >0</td>\n",
       "                        <td id=\"T_87ea2_row17_col10\" class=\"data row17 col10\" >0</td>\n",
       "            </tr>\n",
       "            <tr>\n",
       "                        <th id=\"T_87ea2_level0_row18\" class=\"row_heading level0 row18\" >18</th>\n",
       "                        <td id=\"T_87ea2_row18_col0\" class=\"data row18 col0\" >76</td>\n",
       "                        <td id=\"T_87ea2_row18_col1\" class=\"data row18 col1\" >248</td>\n",
       "                        <td id=\"T_87ea2_row18_col2\" class=\"data row18 col2\" >253</td>\n",
       "                        <td id=\"T_87ea2_row18_col3\" class=\"data row18 col3\" >112</td>\n",
       "                        <td id=\"T_87ea2_row18_col4\" class=\"data row18 col4\" >0</td>\n",
       "                        <td id=\"T_87ea2_row18_col5\" class=\"data row18 col5\" >0</td>\n",
       "                        <td id=\"T_87ea2_row18_col6\" class=\"data row18 col6\" >0</td>\n",
       "                        <td id=\"T_87ea2_row18_col7\" class=\"data row18 col7\" >0</td>\n",
       "                        <td id=\"T_87ea2_row18_col8\" class=\"data row18 col8\" >0</td>\n",
       "                        <td id=\"T_87ea2_row18_col9\" class=\"data row18 col9\" >0</td>\n",
       "                        <td id=\"T_87ea2_row18_col10\" class=\"data row18 col10\" >0</td>\n",
       "            </tr>\n",
       "            <tr>\n",
       "                        <th id=\"T_87ea2_level0_row19\" class=\"row_heading level0 row19\" >19</th>\n",
       "                        <td id=\"T_87ea2_row19_col0\" class=\"data row19 col0\" >9</td>\n",
       "                        <td id=\"T_87ea2_row19_col1\" class=\"data row19 col1\" >232</td>\n",
       "                        <td id=\"T_87ea2_row19_col2\" class=\"data row19 col2\" >180</td>\n",
       "                        <td id=\"T_87ea2_row19_col3\" class=\"data row19 col3\" >8</td>\n",
       "                        <td id=\"T_87ea2_row19_col4\" class=\"data row19 col4\" >0</td>\n",
       "                        <td id=\"T_87ea2_row19_col5\" class=\"data row19 col5\" >0</td>\n",
       "                        <td id=\"T_87ea2_row19_col6\" class=\"data row19 col6\" >0</td>\n",
       "                        <td id=\"T_87ea2_row19_col7\" class=\"data row19 col7\" >0</td>\n",
       "                        <td id=\"T_87ea2_row19_col8\" class=\"data row19 col8\" >0</td>\n",
       "                        <td id=\"T_87ea2_row19_col9\" class=\"data row19 col9\" >0</td>\n",
       "                        <td id=\"T_87ea2_row19_col10\" class=\"data row19 col10\" >0</td>\n",
       "            </tr>\n",
       "    </tbody></table>"
      ],
      "text/plain": [
       "<pandas.io.formats.style.Styler at 0x7f4cb3edd250>"
      ]
     },
     "execution_count": 6,
     "metadata": {},
     "output_type": "execute_result"
    }
   ],
   "source": [
    "img_1_tensor = tensor(img1)\n",
    "df = pd.DataFrame(img_1_tensor[4:24, 9:20])\n",
    "df.style.set_properties(**{'font-size': '6pt'}).background_gradient('Greys')"
   ]
  },
  {
   "cell_type": "markdown",
   "id": "individual-velvet",
   "metadata": {
    "papermill": {
     "duration": 0.021153,
     "end_time": "2021-07-08T02:32:14.537412",
     "exception": false,
     "start_time": "2021-07-08T02:32:14.516259",
     "status": "completed"
    },
    "tags": []
   },
   "source": [
    "Note: In tensor representation of the image. The first slices represents image in Y - axis, and second slice represents array in X-axis"
   ]
  },
  {
   "cell_type": "markdown",
   "id": "married-librarian",
   "metadata": {
    "papermill": {
     "duration": 0.021587,
     "end_time": "2021-07-08T02:32:14.580289",
     "exception": false,
     "start_time": "2021-07-08T02:32:14.558702",
     "status": "completed"
    },
    "tags": []
   },
   "source": [
    "## Using Pixel Similarity"
   ]
  },
  {
   "cell_type": "code",
   "execution_count": 7,
   "id": "alternative-sunglasses",
   "metadata": {
    "execution": {
     "iopub.execute_input": "2021-07-08T02:32:14.631170Z",
     "iopub.status.busy": "2021-07-08T02:32:14.630457Z",
     "iopub.status.idle": "2021-07-08T02:32:29.812797Z",
     "shell.execute_reply": "2021-07-08T02:32:29.812033Z",
     "shell.execute_reply.started": "2021-07-08T01:54:09.442029Z"
    },
    "papermill": {
     "duration": 15.211418,
     "end_time": "2021-07-08T02:32:29.812979",
     "exception": false,
     "start_time": "2021-07-08T02:32:14.601561",
     "status": "completed"
    },
    "tags": []
   },
   "outputs": [],
   "source": [
    "zero_tensors = [tensor(Image.open(o)) for o in zeroes]\n",
    "one_tensors = [tensor(Image.open(o)) for o in ones]\n",
    "two_tensors = [tensor(Image.open(o)) for o in twos]\n",
    "three_tensors = [tensor(Image.open(o)) for o in threes]\n",
    "four_tensors = [tensor(Image.open(o)) for o in fours]\n",
    "five_tensors = [tensor(Image.open(o)) for o in fives]\n",
    "six_tensors = [tensor(Image.open(o)) for o in sixs]\n",
    "seven_tensors = [tensor(Image.open(o)) for o in sevens]\n",
    "eight_tensors = [tensor(Image.open(o)) for o in eights]\n",
    "nine_tensors = [tensor(Image.open(o)) for o in nines]"
   ]
  },
  {
   "cell_type": "code",
   "execution_count": 8,
   "id": "resistant-police",
   "metadata": {
    "execution": {
     "iopub.execute_input": "2021-07-08T02:32:29.865733Z",
     "iopub.status.busy": "2021-07-08T02:32:29.865081Z",
     "iopub.status.idle": "2021-07-08T02:32:30.163167Z",
     "shell.execute_reply": "2021-07-08T02:32:30.161941Z",
     "shell.execute_reply.started": "2021-07-08T02:18:48.217554Z"
    },
    "papermill": {
     "duration": 0.328342,
     "end_time": "2021-07-08T02:32:30.163330",
     "exception": false,
     "start_time": "2021-07-08T02:32:29.834988",
     "status": "completed"
    },
    "tags": []
   },
   "outputs": [],
   "source": [
    "stacked_zeroes = torch.stack(zero_tensors).float()/255\n",
    "stacked_ones = torch.stack(one_tensors).float()/255\n",
    "stacked_twos = torch.stack(two_tensors).float()/255\n",
    "stacked_threes = torch.stack(three_tensors).float()/255\n",
    "stacked_fours = torch.stack(four_tensors).float()/255\n",
    "stacked_fives = torch.stack(five_tensors).float()/255\n",
    "stacked_sixs = torch.stack(six_tensors).float()/255\n",
    "stacked_sevens = torch.stack(seven_tensors).float()/255\n",
    "stacked_eights = torch.stack(eight_tensors).float()/255\n",
    "stacked_nines = torch.stack(nine_tensors).float()/255"
   ]
  },
  {
   "cell_type": "code",
   "execution_count": 9,
   "id": "appointed-assist",
   "metadata": {
    "execution": {
     "iopub.execute_input": "2021-07-08T02:32:30.211485Z",
     "iopub.status.busy": "2021-07-08T02:32:30.210727Z",
     "iopub.status.idle": "2021-07-08T02:32:30.230094Z",
     "shell.execute_reply": "2021-07-08T02:32:30.229488Z",
     "shell.execute_reply.started": "2021-07-08T01:44:09.108282Z"
    },
    "papermill": {
     "duration": 0.045542,
     "end_time": "2021-07-08T02:32:30.230239",
     "exception": false,
     "start_time": "2021-07-08T02:32:30.184697",
     "status": "completed"
    },
    "tags": []
   },
   "outputs": [
    {
     "data": {
      "text/plain": [
       "3"
      ]
     },
     "execution_count": 9,
     "metadata": {},
     "output_type": "execute_result"
    }
   ],
   "source": [
    "torch.stack(one_tensors).ndim"
   ]
  },
  {
   "cell_type": "code",
   "execution_count": 10,
   "id": "radical-concept",
   "metadata": {
    "execution": {
     "iopub.execute_input": "2021-07-08T02:32:30.280512Z",
     "iopub.status.busy": "2021-07-08T02:32:30.279802Z",
     "iopub.status.idle": "2021-07-08T02:32:30.346828Z",
     "shell.execute_reply": "2021-07-08T02:32:30.347399Z",
     "shell.execute_reply.started": "2021-07-08T01:44:09.131461Z"
    },
    "papermill": {
     "duration": 0.095262,
     "end_time": "2021-07-08T02:32:30.347586",
     "exception": false,
     "start_time": "2021-07-08T02:32:30.252324",
     "status": "completed"
    },
    "tags": []
   },
   "outputs": [
    {
     "data": {
      "text/plain": [
       "<AxesSubplot:>"
      ]
     },
     "execution_count": 10,
     "metadata": {},
     "output_type": "execute_result"
    },
    {
     "data": {
      "image/png": "[encoded data removed]",
      "text/plain": [
       "<Figure size 72x72 with 1 Axes>"
      ]
     },
     "metadata": {
      "needs_background": "light"
     },
     "output_type": "display_data"
    }
   ],
   "source": [
    "mean1 = stacked_ones.mean(dim=0)\n",
    "show_image(mean1)"
   ]
  },
  {
   "cell_type": "code",
   "execution_count": 11,
   "id": "unusual-muslim",
   "metadata": {
    "execution": {
     "iopub.execute_input": "2021-07-08T02:32:30.402014Z",
     "iopub.status.busy": "2021-07-08T02:32:30.397061Z",
     "iopub.status.idle": "2021-07-08T02:32:30.457943Z",
     "shell.execute_reply": "2021-07-08T02:32:30.457304Z",
     "shell.execute_reply.started": "2021-07-08T01:44:09.193828Z"
    },
    "papermill": {
     "duration": 0.086156,
     "end_time": "2021-07-08T02:32:30.458093",
     "exception": false,
     "start_time": "2021-07-08T02:32:30.371937",
     "status": "completed"
    },
    "tags": []
   },
   "outputs": [
    {
     "data": {
      "text/plain": [
       "<AxesSubplot:>"
      ]
     },
     "execution_count": 11,
     "metadata": {},
     "output_type": "execute_result"
    },
    {
     "data": {
      "image/png": "[encoded data removed]",
      "text/plain": [
       "<Figure size 72x72 with 1 Axes>"
      ]
     },
     "metadata": {
      "needs_background": "light"
     },
     "output_type": "display_data"
    }
   ],
   "source": [
    "mean8 = stacked_eights.mean(dim=0)\n",
    "show_image(mean8)"
   ]
  },
  {
   "cell_type": "code",
   "execution_count": 12,
   "id": "descending-shareware",
   "metadata": {
    "execution": {
     "iopub.execute_input": "2021-07-08T02:32:30.514505Z",
     "iopub.status.busy": "2021-07-08T02:32:30.512936Z",
     "iopub.status.idle": "2021-07-08T02:32:30.533436Z",
     "shell.execute_reply": "2021-07-08T02:32:30.533996Z",
     "shell.execute_reply.started": "2021-07-08T02:18:56.054746Z"
    },
    "papermill": {
     "duration": 0.052033,
     "end_time": "2021-07-08T02:32:30.534206",
     "exception": false,
     "start_time": "2021-07-08T02:32:30.482173",
     "status": "completed"
    },
    "tags": []
   },
   "outputs": [],
   "source": [
    "mean0 = stacked_zeroes.mean(0)\n",
    "mean1 = stacked_ones.mean(0)\n",
    "mean2 = stacked_twos.mean(0)\n",
    "mean3 = stacked_threes.mean(0)\n",
    "mean4 = stacked_fours.mean(0)\n",
    "mean5 = stacked_fives.mean(0)\n",
    "mean6 = stacked_fives.mean(0)\n",
    "mean7 = stacked_sevens.mean(0)\n",
    "mean8 = stacked_eights.mean(0)\n",
    "mean9 = stacked_nines.mean(0)"
   ]
  },
  {
   "cell_type": "code",
   "execution_count": 13,
   "id": "abroad-hollow",
   "metadata": {
    "execution": {
     "iopub.execute_input": "2021-07-08T02:32:30.589766Z",
     "iopub.status.busy": "2021-07-08T02:32:30.588905Z",
     "iopub.status.idle": "2021-07-08T02:32:30.591671Z",
     "shell.execute_reply": "2021-07-08T02:32:30.591079Z",
     "shell.execute_reply.started": "2021-07-08T02:18:59.844506Z"
    },
    "papermill": {
     "duration": 0.031548,
     "end_time": "2021-07-08T02:32:30.591815",
     "exception": false,
     "start_time": "2021-07-08T02:32:30.560267",
     "status": "completed"
    },
    "tags": []
   },
   "outputs": [],
   "source": [
    "def mnist_distance(a, b):\n",
    "    return (a-b).abs().mean((-1, -2))"
   ]
  },
  {
   "cell_type": "code",
   "execution_count": 14,
   "id": "monetary-movement",
   "metadata": {
    "execution": {
     "iopub.execute_input": "2021-07-08T02:32:30.643499Z",
     "iopub.status.busy": "2021-07-08T02:32:30.642487Z",
     "iopub.status.idle": "2021-07-08T02:32:30.647115Z",
     "shell.execute_reply": "2021-07-08T02:32:30.647674Z",
     "shell.execute_reply.started": "2021-07-08T02:19:00.535843Z"
    },
    "papermill": {
     "duration": 0.031977,
     "end_time": "2021-07-08T02:32:30.647860",
     "exception": false,
     "start_time": "2021-07-08T02:32:30.615883",
     "status": "completed"
    },
    "tags": []
   },
   "outputs": [],
   "source": [
    "means = [mean0, mean1, mean2, mean3, mean4, mean5, mean6, mean7, mean8, mean9]\n",
    "\n",
    "# def get_prediction(x):\n",
    "#   distances = [mnist_distance(x, mean_image) for mean_image in mean_images]\n",
    "#   min_distance = min(distances)\n",
    "#   return distances.index(min_distance)"
   ]
  },
  {
   "cell_type": "code",
   "execution_count": 15,
   "id": "blocked-personality",
   "metadata": {
    "execution": {
     "iopub.execute_input": "2021-07-08T02:32:30.744829Z",
     "iopub.status.busy": "2021-07-08T02:32:30.744139Z",
     "iopub.status.idle": "2021-07-08T02:32:30.748785Z",
     "shell.execute_reply": "2021-07-08T02:32:30.749283Z",
     "shell.execute_reply.started": "2021-07-08T02:19:17.007622Z"
    },
    "papermill": {
     "duration": 0.032842,
     "end_time": "2021-07-08T02:32:30.749464",
     "exception": false,
     "start_time": "2021-07-08T02:32:30.716622",
     "status": "completed"
    },
    "tags": []
   },
   "outputs": [],
   "source": [
    "def get_prediction(x):\n",
    "    distances = [mnist_distance(x, mean_digit) for mean_digit in means]\n",
    "    print(distances)\n",
    "    return distances.index(min(distances))"
   ]
  },
  {
   "cell_type": "code",
   "execution_count": 16,
   "id": "viral-victoria",
   "metadata": {
    "execution": {
     "iopub.execute_input": "2021-07-08T02:32:30.801777Z",
     "iopub.status.busy": "2021-07-08T02:32:30.801140Z",
     "iopub.status.idle": "2021-07-08T02:32:30.816236Z",
     "shell.execute_reply": "2021-07-08T02:32:30.815657Z",
     "shell.execute_reply.started": "2021-07-08T02:31:22.223034Z"
    },
    "papermill": {
     "duration": 0.043164,
     "end_time": "2021-07-08T02:32:30.816388",
     "exception": false,
     "start_time": "2021-07-08T02:32:30.773224",
     "status": "completed"
    },
    "tags": []
   },
   "outputs": [],
   "source": [
    "valid = (path/'testing'/'1').ls().sorted()"
   ]
  },
  {
   "cell_type": "code",
   "execution_count": 17,
   "id": "periodic-ribbon",
   "metadata": {
    "execution": {
     "iopub.execute_input": "2021-07-08T02:32:30.869968Z",
     "iopub.status.busy": "2021-07-08T02:32:30.868951Z",
     "iopub.status.idle": "2021-07-08T02:32:30.874538Z",
     "shell.execute_reply": "2021-07-08T02:32:30.875091Z",
     "shell.execute_reply.started": "2021-07-08T02:31:22.805862Z"
    },
    "papermill": {
     "duration": 0.034682,
     "end_time": "2021-07-08T02:32:30.875269",
     "exception": false,
     "start_time": "2021-07-08T02:32:30.840587",
     "status": "completed"
    },
    "tags": []
   },
   "outputs": [
    {
     "data": {
      "image/png": "[encoded data removed]",
      "text/plain": [
       "<PIL.PngImagePlugin.PngImageFile image mode=L size=28x28 at 0x7F4C8286E390>"
      ]
     },
     "execution_count": 17,
     "metadata": {},
     "output_type": "execute_result"
    }
   ],
   "source": [
    "valid[3]\n",
    "valid_img = Image.open(valid[0])\n",
    "valid_img"
   ]
  },
  {
   "cell_type": "code",
   "execution_count": 18,
   "id": "initial-mixer",
   "metadata": {
    "execution": {
     "iopub.execute_input": "2021-07-08T02:32:30.928710Z",
     "iopub.status.busy": "2021-07-08T02:32:30.928065Z",
     "iopub.status.idle": "2021-07-08T02:32:30.931396Z",
     "shell.execute_reply": "2021-07-08T02:32:30.930717Z",
     "shell.execute_reply.started": "2021-07-08T02:31:25.818765Z"
    },
    "papermill": {
     "duration": 0.032296,
     "end_time": "2021-07-08T02:32:30.931538",
     "exception": false,
     "start_time": "2021-07-08T02:32:30.899242",
     "status": "completed"
    },
    "tags": []
   },
   "outputs": [],
   "source": [
    "valid_img_tensor = tensor(valid_img)"
   ]
  },
  {
   "cell_type": "code",
   "execution_count": 19,
   "id": "wrong-leonard",
   "metadata": {
    "execution": {
     "iopub.execute_input": "2021-07-08T02:32:30.985230Z",
     "iopub.status.busy": "2021-07-08T02:32:30.984514Z",
     "iopub.status.idle": "2021-07-08T02:32:31.092211Z",
     "shell.execute_reply": "2021-07-08T02:32:31.092677Z",
     "shell.execute_reply.started": "2021-07-08T02:31:26.209096Z"
    },
    "papermill": {
     "duration": 0.137432,
     "end_time": "2021-07-08T02:32:31.092895",
     "exception": false,
     "start_time": "2021-07-08T02:32:30.955463",
     "status": "completed"
    },
    "tags": []
   },
   "outputs": [
    {
     "name": "stdout",
     "output_type": "stream",
     "text": [
      "[tensor(17.3236), tensor(17.2496), tensor(17.3236), tensor(17.3048), tensor(17.3053), tensor(17.3015), tensor(17.3015), tensor(17.2962), tensor(17.3025), tensor(17.2960)]\n"
     ]
    },
    {
     "data": {
      "text/plain": [
       "1"
      ]
     },
     "execution_count": 19,
     "metadata": {},
     "output_type": "execute_result"
    }
   ],
   "source": [
    "get_prediction(valid_img_tensor)"
   ]
  },
  {
   "cell_type": "code",
   "execution_count": 20,
   "id": "about-correspondence",
   "metadata": {
    "execution": {
     "iopub.execute_input": "2021-07-08T02:32:31.152036Z",
     "iopub.status.busy": "2021-07-08T02:32:31.151010Z",
     "iopub.status.idle": "2021-07-08T02:32:31.153768Z",
     "shell.execute_reply": "2021-07-08T02:32:31.154494Z",
     "shell.execute_reply.started": "2021-07-08T02:31:27.144840Z"
    },
    "papermill": {
     "duration": 0.036194,
     "end_time": "2021-07-08T02:32:31.154693",
     "exception": false,
     "start_time": "2021-07-08T02:32:31.118499",
     "status": "completed"
    },
    "tags": []
   },
   "outputs": [],
   "source": [
    "## Calculate average predictsion"
   ]
  },
  {
   "cell_type": "code",
   "execution_count": null,
   "id": "second-rebecca",
   "metadata": {
    "papermill": {
     "duration": 0.025082,
     "end_time": "2021-07-08T02:32:31.205344",
     "exception": false,
     "start_time": "2021-07-08T02:32:31.180262",
     "status": "completed"
    },
    "tags": []
   },
   "outputs": [],
   "source": []
  }
 ],
 "metadata": {
  "kernelspec": {
   "display_name": "Python 3",
   "language": "python",
   "name": "python3"
  },
  "language_info": {
   "codemirror_mode": {
    "name": "ipython",
    "version": 3
   },
   "file_extension": ".py",
   "mimetype": "text/x-python",
   "name": "python",
   "nbconvert_exporter": "python",
   "pygments_lexer": "ipython3",
   "version": "3.7.10"
  },
  "papermill": {
   "default_parameters": {},
   "duration": 49.814137,
   "end_time": "2021-07-08T02:32:33.299294",
   "environment_variables": {},
   "exception": null,
   "input_path": "__notebook__.ipynb",
   "output_path": "__notebook__.ipynb",
   "parameters": {},
   "start_time": "2021-07-08T02:31:43.485157",
   "version": "2.3.3"
  }
 },
 "nbformat": 4,
 "nbformat_minor": 5
}
